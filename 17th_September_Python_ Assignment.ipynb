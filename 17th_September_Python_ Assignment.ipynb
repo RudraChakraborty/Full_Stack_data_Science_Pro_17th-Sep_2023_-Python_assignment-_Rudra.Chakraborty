{
 "cells": [
  {
   "cell_type": "markdown",
   "id": "7ce4c8ce",
   "metadata": {},
   "source": [
    "# For Loop :"
   ]
  },
  {
   "cell_type": "markdown",
   "id": "3d76a23e",
   "metadata": {},
   "source": [
    "1. Write a Python program to print numbers from 1 to 10 using a for loop."
   ]
  },
  {
   "cell_type": "code",
   "execution_count": 1,
   "id": "c91da1ef",
   "metadata": {},
   "outputs": [
    {
     "name": "stdout",
     "output_type": "stream",
     "text": [
      "1\n",
      "2\n",
      "3\n",
      "4\n",
      "5\n",
      "6\n",
      "7\n",
      "8\n",
      "9\n",
      "10\n"
     ]
    }
   ],
   "source": [
    "for i in list(range(1,11)):\n",
    "    print(i)"
   ]
  },
  {
   "cell_type": "markdown",
   "id": "042afb2d",
   "metadata": {},
   "source": [
    "2. Explain the difference between a for loop and a while loop in Python."
   ]
  },
  {
   "cell_type": "markdown",
   "id": "b0523b8f",
   "metadata": {},
   "source": [
    "for item in iterable:\n",
    "     # code block to be executed for each item"
   ]
  },
  {
   "cell_type": "code",
   "execution_count": 4,
   "id": "b9591228",
   "metadata": {},
   "outputs": [
    {
     "name": "stdout",
     "output_type": "stream",
     "text": [
      "1\n",
      "2\n",
      "3\n",
      "4\n",
      "5\n",
      "6\n",
      "7\n",
      "8\n",
      "9\n",
      "10\n"
     ]
    }
   ],
   "source": [
    "\n",
    "for num in range(1,11):\n",
    "    print(num)"
   ]
  },
  {
   "cell_type": "markdown",
   "id": "613a91c3",
   "metadata": {},
   "source": [
    "while condition:\n",
    "    # code block to be executed while condition is true"
   ]
  },
  {
   "cell_type": "code",
   "execution_count": 5,
   "id": "07070094",
   "metadata": {},
   "outputs": [
    {
     "name": "stdout",
     "output_type": "stream",
     "text": [
      "1\n",
      "2\n",
      "3\n",
      "4\n",
      "5\n",
      "6\n",
      "7\n",
      "8\n",
      "9\n",
      "10\n"
     ]
    }
   ],
   "source": [
    "num = 1\n",
    "while num <= 10:\n",
    "    print(num)\n",
    "    num += 1"
   ]
  },
  {
   "cell_type": "markdown",
   "id": "623f9a2a",
   "metadata": {},
   "source": [
    "3. Write a Python program to calculate the sum of all numbers from 1 to 100 using a for loop."
   ]
  },
  {
   "cell_type": "code",
   "execution_count": 26,
   "id": "9daaebcf",
   "metadata": {},
   "outputs": [
    {
     "name": "stdout",
     "output_type": "stream",
     "text": [
      "5050\n"
     ]
    }
   ],
   "source": [
    "sum_of_all_num=0\n",
    "for i in list(range(1,101)):\n",
    "    sum_of_all_num+=i\n",
    "print(sum_of_all_num)"
   ]
  },
  {
   "cell_type": "markdown",
   "id": "83b16d91",
   "metadata": {},
   "source": [
    "4. How do you iterate through a list using a for loop in Python?"
   ]
  },
  {
   "cell_type": "code",
   "execution_count": 1,
   "id": "293335a4",
   "metadata": {},
   "outputs": [
    {
     "name": "stdout",
     "output_type": "stream",
     "text": [
      "1\n",
      "2\n",
      "3\n",
      "4\n",
      "5\n",
      "6\n"
     ]
    }
   ],
   "source": [
    "my_list=[1,2,3,4,5,6]\n",
    "for item in my_list:\n",
    "    print(item)"
   ]
  },
  {
   "cell_type": "markdown",
   "id": "5be6bd22",
   "metadata": {},
   "source": [
    "5. Write a Python program to find the product of all elements in a list using a for loop."
   ]
  },
  {
   "cell_type": "code",
   "execution_count": 2,
   "id": "b76a29d8",
   "metadata": {},
   "outputs": [
    {
     "name": "stdout",
     "output_type": "stream",
     "text": [
      "Product of all elements in the list: 120\n"
     ]
    }
   ],
   "source": [
    "def product_of_list(lst):\n",
    "    result=1\n",
    "    for num in lst:\n",
    "        result*=num\n",
    "    return result\n",
    "my_list=[1,2,3,4,5]\n",
    "product=product_of_list(my_list)\n",
    "print(\"Product of all elements in the list:\", product)"
   ]
  },
  {
   "cell_type": "markdown",
   "id": "d2e4be57",
   "metadata": {},
   "source": [
    "6. Create a Python program that prints all even numbers from 1 to 20 using a for loop."
   ]
  },
  {
   "cell_type": "code",
   "execution_count": 19,
   "id": "7f7e6ecb",
   "metadata": {},
   "outputs": [
    {
     "name": "stdout",
     "output_type": "stream",
     "text": [
      "20\n"
     ]
    }
   ],
   "source": [
    "for i in list(range(1,21)):\n",
    "    i%2==0\n",
    "print(i)"
   ]
  },
  {
   "cell_type": "markdown",
   "id": "547a6788",
   "metadata": {},
   "source": [
    "7. Write a Python program that calculates the factorial of a number using a for loop."
   ]
  },
  {
   "cell_type": "code",
   "execution_count": 3,
   "id": "d1fd191a",
   "metadata": {},
   "outputs": [
    {
     "name": "stdout",
     "output_type": "stream",
     "text": [
      "Enter the number:5\n",
      "The factorial of 5 is: 120\n"
     ]
    }
   ],
   "source": [
    "def factorial(n):\n",
    "    if n<0:\n",
    "        return \"Factorial is undefined for negative numbers.\"\n",
    "    elif n==0 or n==1:\n",
    "        return 1\n",
    "    else:\n",
    "        result =1\n",
    "        for i in range(2,n+1):\n",
    "            result *=i\n",
    "        return result\n",
    "number=int(input(\"Enter the number:\"))\n",
    "result=factorial(number)\n",
    "print(f\"The factorial of {number} is: {result}\")"
   ]
  },
  {
   "cell_type": "markdown",
   "id": "381ff460",
   "metadata": {},
   "source": [
    "8. How can you iterate through the characters of a string using a for loop in Python?"
   ]
  },
  {
   "cell_type": "code",
   "execution_count": 1,
   "id": "d4339737",
   "metadata": {},
   "outputs": [
    {
     "name": "stdout",
     "output_type": "stream",
     "text": [
      "H\n",
      "e\n",
      "l\n",
      "l\n",
      "o\n"
     ]
    }
   ],
   "source": [
    "my_string=\"Hello\"\n",
    "for char in my_string:\n",
    "    print(char)"
   ]
  },
  {
   "cell_type": "markdown",
   "id": "2ce5bde0",
   "metadata": {},
   "source": [
    "9. Write a Python program to find the largest number in a list using a for loop."
   ]
  },
  {
   "cell_type": "code",
   "execution_count": null,
   "id": "dcb80460",
   "metadata": {},
   "outputs": [],
   "source": [
    "def find_largest_number(numbers):\n",
    "    if not numbers:\n",
    "        return \"List is empty\"\n",
    "    \n",
    "    largest_number= numbers[0]\n",
    "    \n",
    "    for number in numbers[1:]:\n",
    "        if number>largest_number:\n",
    "            largest_number= number\n",
    "    return largest_number\n",
    "\n",
    "user_input = input(\"Enter a list of numbers separated by spaces: \")\n",
    "numbers = [int(num) for num in user_input.split()]\n",
    "result = find_largest_number(numbers)\n",
    "print(f\"The largest number in the list is: {result}\")"
   ]
  },
  {
   "cell_type": "markdown",
   "id": "bffe3474",
   "metadata": {},
   "source": [
    "10. Create a Python program that prints the Fibonacci sequence up to a specified limit using a for loop."
   ]
  },
  {
   "cell_type": "code",
   "execution_count": 4,
   "id": "29adcf32",
   "metadata": {},
   "outputs": [
    {
     "name": "stdout",
     "output_type": "stream",
     "text": [
      "0\n",
      "1\n",
      "1\n",
      "2\n",
      "3\n",
      "5\n",
      "8\n",
      "13\n",
      "21\n",
      "34\n",
      "55\n",
      "89\n"
     ]
    }
   ],
   "source": [
    "def fibonacci(limit):\n",
    "    fib_1,fib_2=0,1\n",
    "    print(fib_1)\n",
    "    if limit >1:\n",
    "        print(fib_2)\n",
    "    for _ in range(2,limit):\n",
    "        fib_1,fib_2=fib_2,fib_1+fib_2\n",
    "        if fib_2>limit:\n",
    "            break\n",
    "        print(fib_2)\n",
    "limit=100\n",
    "fibonacci(limit)"
   ]
  },
  {
   "cell_type": "markdown",
   "id": "db82c13e",
   "metadata": {},
   "source": [
    "11. Write a Python program to count the number of vowels in a given string using a for loop."
   ]
  },
  {
   "cell_type": "code",
   "execution_count": 5,
   "id": "651c3c33",
   "metadata": {},
   "outputs": [
    {
     "name": "stdout",
     "output_type": "stream",
     "text": [
      "Number of vowels in the string: 3\n"
     ]
    }
   ],
   "source": [
    "def count_vowels(string):\n",
    "    vowels={\"A\",\"E\",\"I\",\"O\",\"U\",\"a\",\"e\",\"i\",\"o\",\"u\"}\n",
    "    vowels_count=0\n",
    "    for char in string:\n",
    "        if char in string:\n",
    "            if char.lower() in vowels:\n",
    "                vowels_count+=1\n",
    "    return vowels_count\n",
    "input_string = \"Hello World\"\n",
    "print(\"Number of vowels in the string:\", count_vowels(input_string))"
   ]
  },
  {
   "cell_type": "markdown",
   "id": "26695136",
   "metadata": {},
   "source": [
    "12. Create a Python program that generates a multiplication table for a given number using a for loop."
   ]
  },
  {
   "cell_type": "code",
   "execution_count": 2,
   "id": "e20b789c",
   "metadata": {},
   "outputs": [
    {
     "name": "stdout",
     "output_type": "stream",
     "text": [
      "8.0X1=8.0\n",
      "8.0X2=16.0\n",
      "8.0X3=24.0\n",
      "8.0X4=32.0\n",
      "8.0X5=40.0\n",
      "8.0X6=48.0\n",
      "8.0X7=56.0\n",
      "8.0X8=64.0\n",
      "8.0X9=72.0\n",
      "8.0X10=80.0\n"
     ]
    }
   ],
   "source": [
    "def multiplication_tabel(number):\n",
    "    for i in range(1,11):\n",
    "        product=i*number\n",
    "        print(f\"{number}X{i}={product}\")\n",
    "input_number=float(input(\"Enter the num you want to multiply\"))\n",
    "multiplication_tabel(input_number)"
   ]
  },
  {
   "cell_type": "markdown",
   "id": "7afbe4d0",
   "metadata": {},
   "source": [
    "13. Write a Python program to reverse a list using a for loop."
   ]
  },
  {
   "cell_type": "code",
   "execution_count": 2,
   "id": "2c3989b3",
   "metadata": {},
   "outputs": [
    {
     "name": "stdout",
     "output_type": "stream",
     "text": [
      "Original list: [1, 2, 3, 4, 5]\n",
      "Reversed list: [5, 4, 3, 2, 1]\n"
     ]
    }
   ],
   "source": [
    "def reversed_list(input_list):\n",
    "    reversed_list=[]\n",
    "    for i in range(len(input_list)-1,-1,-1):\n",
    "        reversed_list.append(input_list[i])\n",
    "    return reversed_list\n",
    "input_list=[1,2,3,4,5]\n",
    "print(\"Original list:\", input_list)\n",
    "reversed_result=reversed_list(input_list)\n",
    "print(\"Reversed list:\", reversed_result)"
   ]
  },
  {
   "cell_type": "markdown",
   "id": "138e7f71",
   "metadata": {},
   "source": [
    "14. Write a Python program to find the common elements between two lists using a for loop."
   ]
  },
  {
   "cell_type": "code",
   "execution_count": 3,
   "id": "fdce29bb",
   "metadata": {},
   "outputs": [
    {
     "name": "stdout",
     "output_type": "stream",
     "text": [
      "Common elements between list1 and list2: [4, 5, 6]\n"
     ]
    }
   ],
   "source": [
    "def find_common_element(list1,list2):\n",
    "    common_elements=[]\n",
    "    for element1 in list1:\n",
    "        if element1 in list2:\n",
    "            common_elements.append(element1)\n",
    "    return common_elements\n",
    "list1=[1,2,3,4,5,6]\n",
    "list2=[4,5,6,7,8,9]\n",
    "common_element_result=find_common_element(list1,list2)\n",
    "print(\"Common elements between list1 and list2:\", common_element_result)"
   ]
  },
  {
   "cell_type": "markdown",
   "id": "aac8af13",
   "metadata": {},
   "source": [
    "15. Explain how to use a for loop to iterate through the keys and values of a dictionary in Python."
   ]
  },
  {
   "cell_type": "code",
   "execution_count": 5,
   "id": "9b88b0a0",
   "metadata": {},
   "outputs": [
    {
     "name": "stdout",
     "output_type": "stream",
     "text": [
      "Key: a, Value: 1\n",
      "Key: b, Value: 2\n",
      "Key: c, Value: 3\n"
     ]
    }
   ],
   "source": [
    "my_dict={'a': 1, 'b': 2, 'c': 3}\n",
    "for key, value in my_dict.items():\n",
    "    print(f\"Key: {key}, Value: {value}\")"
   ]
  },
  {
   "cell_type": "markdown",
   "id": "34da87a2",
   "metadata": {},
   "source": [
    "16. Write a Python program to find the GCD (Greatest Common Divisor) of two numbers using a for loop."
   ]
  },
  {
   "cell_type": "code",
   "execution_count": 9,
   "id": "9e204377",
   "metadata": {},
   "outputs": [
    {
     "name": "stdout",
     "output_type": "stream",
     "text": [
      "GCD of 12 and 18 is 6\n"
     ]
    }
   ],
   "source": [
    "def find_gcd(num1,num2):\n",
    "    gcd=1\n",
    "    for i in range(1,min(num1,num2)+1):\n",
    "        if num1 % i==0 and num2 % i==0:\n",
    "            gcd=i\n",
    "    return gcd\n",
    "num1=int(input(\"Enter the first number\"))\n",
    "num2=int(input(\"Enter the second number\"))\n",
    "gcd_result=find_gcd(num1,num2)\n",
    "print(f\"GCD of {num1} and {num2} is {gcd_result}\")"
   ]
  },
  {
   "cell_type": "markdown",
   "id": "d248ddff",
   "metadata": {},
   "source": [
    "17. Create a Python program that checks if a string is a palindrome using a for loop."
   ]
  },
  {
   "cell_type": "code",
   "execution_count": 2,
   "id": "98b25a93",
   "metadata": {},
   "outputs": [
    {
     "name": "stdout",
     "output_type": "stream",
     "text": [
      "radar is a palindrome.\n"
     ]
    }
   ],
   "source": [
    "def is_palindrome(input_string):\n",
    "    input_string=input_string.lower()\n",
    "    start_index=0\n",
    "    end_index=len(input_string)-1\n",
    "    while start_index<end_index:\n",
    "        if input_string[start_index]!=input_string[end_index]:\n",
    "            return False\n",
    "        start_index+=1\n",
    "        end_index-=1\n",
    "    return True\n",
    "input_string=input(\"Enter the word\")\n",
    "if is_palindrome(input_string):\n",
    "    print(f\"{input_string} is a palindrome.\")\n",
    "else:\n",
    "    print(f\"{input_string} is not a palindrome.\")"
   ]
  },
  {
   "cell_type": "markdown",
   "id": "d6e24858",
   "metadata": {},
   "source": [
    "18. Write a Python program to remove duplicates from a list using a for loop."
   ]
  },
  {
   "cell_type": "code",
   "execution_count": 3,
   "id": "bf8b8b21",
   "metadata": {},
   "outputs": [
    {
     "name": "stdout",
     "output_type": "stream",
     "text": [
      "Original list: [1, 2, 2, 3, 4, 4, 5, 6, 7, 8, 8, 8, 8, 9, 10]\n",
      "List after removing duplicates [1, 2, 3, 4, 5, 6, 7, 8, 9, 10]\n"
     ]
    }
   ],
   "source": [
    "def remove_duplicates(input_list):\n",
    "    unique_list=[]\n",
    "    for item in input_list:\n",
    "        if item not in unique_list:\n",
    "            unique_list.append(item)\n",
    "    return unique_list\n",
    "input_list=[1,2,2,3,4,4,5,6,7,8,8,8,8,9,10]\n",
    "unique_result=remove_duplicates(input_list)\n",
    "print(\"Original list:\",input_list)\n",
    "print(\"List after removing duplicates\",unique_result)"
   ]
  },
  {
   "cell_type": "markdown",
   "id": "3f86259b",
   "metadata": {},
   "source": [
    "19. Create a Python program that counts the number of words in a sentence using a for loop."
   ]
  },
  {
   "cell_type": "code",
   "execution_count": 9,
   "id": "232ca518",
   "metadata": {},
   "outputs": [
    {
     "name": "stdout",
     "output_type": "stream",
     "text": [
      "Number of words in the sentence: 4\n"
     ]
    }
   ],
   "source": [
    "def count_words(sentence):\n",
    "    words=sentence.split()\n",
    "    word_count=0\n",
    "    for word in words:\n",
    "        word_count+=1\n",
    "    return word_count\n",
    "input_sentence=input(\"Enter the sentence\")\n",
    "word_count_result=count_words(input_sentence)\n",
    "print(f\"Number of words in the sentence: {word_count_result}\")"
   ]
  },
  {
   "cell_type": "markdown",
   "id": "24aac35e",
   "metadata": {},
   "source": [
    "20. Write a Python program to find the sum of all odd numbers from 1 to 50 using a for loop."
   ]
  },
  {
   "cell_type": "code",
   "execution_count": 10,
   "id": "fe9fb2e1",
   "metadata": {},
   "outputs": [
    {
     "name": "stdout",
     "output_type": "stream",
     "text": [
      "Sum of odd numbers from 1 to 50: 625\n"
     ]
    }
   ],
   "source": [
    "def sum_odd_number():\n",
    "    odd_sum=0\n",
    "    for num in range(1,51):\n",
    "        if num % 2!=0:\n",
    "            odd_sum+=num\n",
    "    return odd_sum\n",
    "result=sum_odd_number()\n",
    "print(\"Sum of odd numbers from 1 to 50:\", result)"
   ]
  },
  {
   "cell_type": "markdown",
   "id": "cebd9c59",
   "metadata": {},
   "source": [
    "21. Write a Python program that checks if a given year is a leap year using a for loop."
   ]
  },
  {
   "cell_type": "code",
   "execution_count": 11,
   "id": "6ab1ba9f",
   "metadata": {},
   "outputs": [
    {
     "name": "stdout",
     "output_type": "stream",
     "text": [
      "2024 is a leap year.\n"
     ]
    }
   ],
   "source": [
    "def is_leap_year(year):\n",
    "    if year % 4==0:\n",
    "        if year % 100==0:\n",
    "            if year % 400==0:\n",
    "                return True\n",
    "            else:\n",
    "                return False\n",
    "        else:\n",
    "            return True\n",
    "    else:\n",
    "        return False\n",
    "input_year=int(input(\"Enter the year\"))\n",
    "if is_leap_year(input_year):\n",
    "    print(f\"{input_year} is a leap year.\")\n",
    "else:\n",
    "    print(f\"{input_year} is not a leap year.\")"
   ]
  },
  {
   "cell_type": "markdown",
   "id": "363c3bbe",
   "metadata": {},
   "source": [
    "22. Create a Python program that calculates the square root of a number using a for loop."
   ]
  },
  {
   "cell_type": "code",
   "execution_count": 7,
   "id": "9865837a",
   "metadata": {},
   "outputs": [
    {
     "name": "stdout",
     "output_type": "stream",
     "text": [
      "The square root of 25 is approximately 5.00000\n"
     ]
    }
   ],
   "source": [
    "def sqrt_with_for_loop(num):\n",
    "    guess=num/2\n",
    "    for _ in range(20):\n",
    "        guess=(guess+num/guess)/2\n",
    "    return guess\n",
    "number=int(input(\"Enter the number you want to square\"))\n",
    "square_root=sqrt_with_for_loop(number)\n",
    "print(f\"The square root of {number} is approximately {square_root:.5f}\")"
   ]
  },
  {
   "cell_type": "markdown",
   "id": "1e6486ad",
   "metadata": {},
   "source": [
    "23. Write a Python program to find the LCM (Least Common Multiple) of two numbers using a for loop."
   ]
  },
  {
   "cell_type": "code",
   "execution_count": 6,
   "id": "c6b416dc",
   "metadata": {},
   "outputs": [
    {
     "name": "stdout",
     "output_type": "stream",
     "text": [
      "The LCM of 10 and 12 is 60.\n"
     ]
    }
   ],
   "source": [
    "def find_lcm(num1,num2):\n",
    "    max_num=max(num1,num2)\n",
    "    for i in range(max_num, num1 * num2 + 1):\n",
    "        if i % num1==0 and i % num2==0:\n",
    "            lcm=i\n",
    "            break\n",
    "    else:\n",
    "        lcm=num1+num2\n",
    "    return lcm\n",
    "number1=int(input(\"Enter the first number\"))\n",
    "number2=int(input(\"Enter the second number\"))\n",
    "lcm_result=find_lcm(number1,number2)\n",
    "print(f\"The LCM of {number1} and {number2} is {lcm_result}.\")"
   ]
  },
  {
   "cell_type": "markdown",
   "id": "2f3fc82f",
   "metadata": {},
   "source": [
    "# If else :"
   ]
  },
  {
   "cell_type": "markdown",
   "id": "fd380c82",
   "metadata": {},
   "source": [
    "1. Write a Python program to check if a number is positive, negative, or zero using an if-else statement."
   ]
  },
  {
   "cell_type": "code",
   "execution_count": 5,
   "id": "f664d26a",
   "metadata": {},
   "outputs": [
    {
     "name": "stdout",
     "output_type": "stream",
     "text": [
      "5 is positive.\n",
      "-2 is positive.\n",
      "0 is zero.\n"
     ]
    }
   ],
   "source": [
    "def check_number(number):\n",
    "    if number>0:\n",
    "        print(f\"{number} is positive.\")\n",
    "    elif number<0:\n",
    "        print(f\"{number} is positive.\")\n",
    "    else:\n",
    "        print(f\"{number} is zero.\")\n",
    "check_number(5)\n",
    "check_number(-2)\n",
    "check_number(0)"
   ]
  },
  {
   "cell_type": "markdown",
   "id": "2ebb8a30",
   "metadata": {},
   "source": [
    "2. Create a Python program that checks if a given number is even or odd using an if-else statement."
   ]
  },
  {
   "cell_type": "code",
   "execution_count": 10,
   "id": "de016180",
   "metadata": {},
   "outputs": [
    {
     "name": "stdout",
     "output_type": "stream",
     "text": [
      "10 is even.\n"
     ]
    }
   ],
   "source": [
    "def check_even_odd(number):\n",
    "    if number%2==0:\n",
    "        print(f\"{number} is even.\")\n",
    "    else:\n",
    "        print(f\"{number} is odd.\")\n",
    "input_number=int(input(\"Enter the number to check even or odd\"))\n",
    "result=check_even_odd(input_number)"
   ]
  },
  {
   "cell_type": "markdown",
   "id": "c3ca7cbc",
   "metadata": {},
   "source": [
    "3. How can you use nested if-else statements in Python, and provide an example?"
   ]
  },
  {
   "cell_type": "code",
   "execution_count": 12,
   "id": "77b73049",
   "metadata": {},
   "outputs": [
    {
     "name": "stdout",
     "output_type": "stream",
     "text": [
      "Gread A\n"
     ]
    }
   ],
   "source": [
    "def classify_score(score):\n",
    "    if score>=90:\n",
    "        print(\"Gread A\")\n",
    "    else:\n",
    "        if score>=80:\n",
    "            print(\"Gread B\")\n",
    "        else:\n",
    "            if score>=70:\n",
    "                print(\"Gread C\")\n",
    "            else:\n",
    "                if score>=60:\n",
    "                    print(\"Gread D\")\n",
    "                else:\n",
    "                    print(\"Grade: F\")\n",
    "input_number=int(input(\"Enter the number to check gread\"))\n",
    "result=classify_score(input_number)"
   ]
  },
  {
   "cell_type": "markdown",
   "id": "013c1dad",
   "metadata": {},
   "source": [
    "4. Write a Python program to determine the largest of three numbers using if-else."
   ]
  },
  {
   "cell_type": "code",
   "execution_count": 2,
   "id": "1acfdaaa",
   "metadata": {},
   "outputs": [
    {
     "name": "stdout",
     "output_type": "stream",
     "text": [
      "The largest number among 10, 20, and 30 is 30.\n"
     ]
    }
   ],
   "source": [
    "def find_largest(num1,num2,num3):\n",
    "    if num1 >= num2 and num1 >= num3:\n",
    "        largest = num1\n",
    "    elif num2>=num1 and num2>=num3:\n",
    "        largest = num2\n",
    "    else:\n",
    "        largest = num3\n",
    "    return largest\n",
    "number=int(input(\"Enter the first number\"))\n",
    "number2=int(input(\"Enter the second number\"))\n",
    "number3=int(input(\"Enter the third number\"))\n",
    "largest_number=find_largest(number,number2,number3)\n",
    "print(f\"The largest number among {number}, {number2}, and {number3} is {largest_number}.\")"
   ]
  },
  {
   "cell_type": "markdown",
   "id": "e974d5b4",
   "metadata": {},
   "source": [
    "5. Write a Python program that calculates the absolute value of a number using if-else."
   ]
  },
  {
   "cell_type": "code",
   "execution_count": 4,
   "id": "e1580483",
   "metadata": {},
   "outputs": [
    {
     "name": "stdout",
     "output_type": "stream",
     "text": [
      "The absolute value of -7 is 7.\n"
     ]
    }
   ],
   "source": [
    "def absolute_value(number):\n",
    "    if number>=0:\n",
    "        return number\n",
    "    else:\n",
    "        return -number\n",
    "number=int(input(\"Enter the number\"))\n",
    "abs_value = absolute_value(number)\n",
    "print(f\"The absolute value of {number} is {abs_value}.\")"
   ]
  },
  {
   "cell_type": "markdown",
   "id": "f3fadf27",
   "metadata": {},
   "source": [
    "6. Create a Python program that checks if a given character is a vowel or consonant using if-else."
   ]
  },
  {
   "cell_type": "code",
   "execution_count": 4,
   "id": "f99bf9e6",
   "metadata": {},
   "outputs": [
    {
     "name": "stdout",
     "output_type": "stream",
     "text": [
      "r is a consonant\n"
     ]
    }
   ],
   "source": [
    "def check_vowel_constant(char):\n",
    "    char=char.lower()\n",
    "    if char.isalpha():\n",
    "        if char in \"aeiouAeiou\":\n",
    "            print(f\"{char} is a vowel\")\n",
    "        else:\n",
    "            print(f\"{char} is a consonant\")\n",
    "    else:\n",
    "        print(f\"{char} is not a valid alphabet character.\")\n",
    "        \n",
    "character=input(\"Enter the sentence\")\n",
    "check_vowel_constant(character)"
   ]
  },
  {
   "cell_type": "markdown",
   "id": "917fd059",
   "metadata": {},
   "source": [
    "7. Write a Python program to determine if a user is eligible to vote based on their age using if-else."
   ]
  },
  {
   "cell_type": "code",
   "execution_count": 7,
   "id": "b4d3f17f",
   "metadata": {},
   "outputs": [
    {
     "name": "stdout",
     "output_type": "stream",
     "text": [
      "You are eligible to vote.\n"
     ]
    }
   ],
   "source": [
    "def check_voting_eligibility(age):\n",
    "    if age>=18:\n",
    "        print(\"You are eligible to vote.\")\n",
    "    else:\n",
    "        print(\"You are not eligible to vote yet.\")\n",
    "user_age=int(input(\"Enter the age\"))\n",
    "check_voting_eligibility(user_age)"
   ]
  },
  {
   "cell_type": "markdown",
   "id": "05e8124b",
   "metadata": {},
   "source": [
    "8. Create a Python program that calculates the discount amount based on the purchase amount using if-else."
   ]
  },
  {
   "cell_type": "code",
   "execution_count": 13,
   "id": "e169bfc6",
   "metadata": {},
   "outputs": [
    {
     "name": "stdout",
     "output_type": "stream",
     "text": [
      "The discount amount for a purchase of ₹1995.5 is ₹199.55.\n"
     ]
    }
   ],
   "source": [
    "def calculate_discount(purchase_amount):\n",
    "    if purchase_amount>=1000:\n",
    "        discount = 0.1 * purchase_amount\n",
    "    elif purchase_amount>=5000:\n",
    "        discount = 0.05 * purchase_amount\n",
    "    else:\n",
    "        discount=0\n",
    "    return discount\n",
    "purchase_amount=float(input(\"Enter the ammount\"))\n",
    "discount_amount = calculate_discount(purchase_amount)\n",
    "print(f\"The discount amount for a purchase of ₹{purchase_amount} is ₹{discount_amount}.\")"
   ]
  },
  {
   "cell_type": "markdown",
   "id": "29f42512",
   "metadata": {},
   "source": [
    "9. Write a Python program to check if a number is within a specified range using if-else."
   ]
  },
  {
   "cell_type": "code",
   "execution_count": 1,
   "id": "9675839c",
   "metadata": {},
   "outputs": [
    {
     "name": "stdout",
     "output_type": "stream",
     "text": [
      "The number 25 is within the range [10, 50].\n"
     ]
    }
   ],
   "source": [
    "def check_number_in_range(number,lower_limit,upper_limit):\n",
    "    if number>=lower_limit and number<=upper_limit:\n",
    "        print(f\"The number {number} is within the range [{lower_limit}, {upper_limit}].\")\n",
    "    else:\n",
    "        print(f\"The number {number} is not within the range [{lower_limit}, {upper_limit}].\")\n",
    "num=int(input(\"Enter the number\"))\n",
    "lower_limit=int(input(\"Enter the lower limit\"))\n",
    "upper_limit=int(input(\"Enter the upper limit\"))\n",
    "check_number_in_range(num, lower_limit, upper_limit)"
   ]
  },
  {
   "cell_type": "markdown",
   "id": "7e765944",
   "metadata": {},
   "source": [
    "10. Create a Python program that determines the grade of a student based on their score using if-else."
   ]
  },
  {
   "cell_type": "code",
   "execution_count": 2,
   "id": "96858c1d",
   "metadata": {},
   "outputs": [
    {
     "name": "stdout",
     "output_type": "stream",
     "text": [
      "The grade for a score of 85 is B.\n"
     ]
    }
   ],
   "source": [
    "def calculate_grade(score):\n",
    "    if score>=90:\n",
    "        grade=\"A\"\n",
    "    elif score>=80:\n",
    "        grade=\"B\"\n",
    "    elif score>=70:\n",
    "        grade=\"C\"\n",
    "    elif score>=60:\n",
    "        grade=\"D\"\n",
    "    else:\n",
    "        grade=\"F\"\n",
    "    return grade\n",
    "student_score=int(input(\"Enter the score\"))\n",
    "student_grade=calculate_grade(student_score)\n",
    "print(f\"The grade for a score of {student_score} is {student_grade}.\")"
   ]
  },
  {
   "cell_type": "markdown",
   "id": "3d8be57f",
   "metadata": {},
   "source": [
    "11. Write a Python program to check if a string is empty or not using if-else."
   ]
  },
  {
   "cell_type": "code",
   "execution_count": 4,
   "id": "58542944",
   "metadata": {},
   "outputs": [
    {
     "name": "stdout",
     "output_type": "stream",
     "text": [
      "The string is not empty\n"
     ]
    }
   ],
   "source": [
    "def check_string_empty(string):\n",
    "    if not string:\n",
    "        print(\"The string is empty\")\n",
    "    else:\n",
    "        print(\"The string is not empty\")\n",
    "string=input(\"Enter the string\")\n",
    "check_string_empty(string)"
   ]
  },
  {
   "cell_type": "markdown",
   "id": "4fe02d2b",
   "metadata": {},
   "source": [
    "12. Create a Python program that identifies the type of a triangle (e.g., equilateral, isosceles, or scalene) based on input values using if-else."
   ]
  },
  {
   "cell_type": "code",
   "execution_count": 7,
   "id": "4d9ef5f2",
   "metadata": {},
   "outputs": [
    {
     "name": "stdout",
     "output_type": "stream",
     "text": [
      "The triangle with sides 20, 20, 20 is Equilateral.\n"
     ]
    }
   ],
   "source": [
    "def triangle_type(a,b,c):\n",
    "    if a==b==c:\n",
    "        return \"Equilateral\"\n",
    "    elif a==b or b==c or c==a:\n",
    "        return \"Isosceles\"\n",
    "    else:\n",
    "        return \"Scalene\"\n",
    "side1=int(input(\"Enter the first side of triangel\"))\n",
    "side2=int(input(\"Enter the second side of triangel\"))\n",
    "side3=int(input(\"Enter the third side of triangel\"))\n",
    "type_of_triangle=triangle_type(side1,side2,side3)\n",
    "print(f\"The triangle with sides {side1}, {side2}, {side3} is {type_of_triangle}.\")"
   ]
  },
  {
   "cell_type": "markdown",
   "id": "5e87181d",
   "metadata": {},
   "source": [
    "13. Write a Python program to determine the day of the week based on a user-provided number using if-else."
   ]
  },
  {
   "cell_type": "code",
   "execution_count": 8,
   "id": "ba8787ff",
   "metadata": {},
   "outputs": [
    {
     "name": "stdout",
     "output_type": "stream",
     "text": [
      "The day of the week corresponding to the number 6 is Saturday.\n"
     ]
    }
   ],
   "source": [
    "def determine_day_of_week(number):\n",
    "    if number==1:\n",
    "        return \"Monday\"\n",
    "    elif number==2:\n",
    "        return \"Tuesday\"\n",
    "    elif number==3:\n",
    "        return \"Wednessday\"\n",
    "    elif number==4:\n",
    "        return \"Thusday\"\n",
    "    elif number==5:\n",
    "        return \"Friday\"\n",
    "    elif number==6:\n",
    "        return \"Saturday\"\n",
    "    elif number==7:\n",
    "        return \"Sunday\"\n",
    "    else:\n",
    "        return \"Invalid input. Please enter a number between 1 and 7.\"\n",
    "user_input = int(input(\"Enter a number between 1 and 7: \"))\n",
    "day_of_week = determine_day_of_week(user_input)\n",
    "print(f\"The day of the week corresponding to the number {user_input} is {day_of_week}.\")"
   ]
  },
  {
   "cell_type": "markdown",
   "id": "45ba92de",
   "metadata": {},
   "source": [
    "14. Create a Python program that checks if a given year is a leap year using both if-else and a function."
   ]
  },
  {
   "cell_type": "code",
   "execution_count": 9,
   "id": "83a5d8b4",
   "metadata": {},
   "outputs": [
    {
     "name": "stdout",
     "output_type": "stream",
     "text": [
      "2020 is a leap year.\n"
     ]
    }
   ],
   "source": [
    "def is_leap_year(year):\n",
    "    if (year % 4 == 0 and year % 100 != 0) or (year % 400 == 0):\n",
    "        return True\n",
    "    else:\n",
    "        return False\n",
    "year = int(input(\"Enter a year: \"))\n",
    "if is_leap_year(year):\n",
    "    print(f\"{year} is a leap year.\")\n",
    "else:\n",
    "    print(f\"{year} is not a leap year.\")"
   ]
  },
  {
   "cell_type": "markdown",
   "id": "bdaab760",
   "metadata": {},
   "source": [
    "15. How do you use the \"assert\" statement in Python to add debugging checks within if-else blocks?"
   ]
  },
  {
   "cell_type": "code",
   "execution_count": 1,
   "id": "ee7737f1",
   "metadata": {},
   "outputs": [
    {
     "name": "stdout",
     "output_type": "stream",
     "text": [
      "10 is divisible by 2\n"
     ]
    }
   ],
   "source": [
    "def devide(a,b):\n",
    "    assert b!=0,\"Divisor cannot be zero\"\n",
    "    if a%b==0:\n",
    "        print(f\"{a} is divisible by {b}\")\n",
    "    else:\n",
    "        print(f\"{a} is not divisible by {b}\")\n",
    "a=int(input(\"Enter the value of a\"))\n",
    "b=int(input(\"Enter the value of b\"))\n",
    "result=devide(a,b)"
   ]
  },
  {
   "cell_type": "markdown",
   "id": "a373eadc",
   "metadata": {},
   "source": [
    "16. Create a Python program that determines the eligibility of a person for a senior citizen discount based on age using if-else."
   ]
  },
  {
   "cell_type": "code",
   "execution_count": 6,
   "id": "bc18b5ba",
   "metadata": {},
   "outputs": [
    {
     "name": "stdout",
     "output_type": "stream",
     "text": [
      "Congratulations! You are eligible for a senior citizen discount.\n"
     ]
    }
   ],
   "source": [
    "def senior_citizen_discount(age):\n",
    "    if age>=60:\n",
    "        print(\"Congratulations! You are eligible for a senior citizen discount.\")\n",
    "    elif age<0:\n",
    "         print(\"Error: Age cannot be negative.\")\n",
    "    else:\n",
    "        print(\"Sorry, you are not eligible for a senior citizen discount.\")\n",
    "age=float(input(\"Enter the age of customer\"))\n",
    "result=senior_citizen_discount(age)"
   ]
  },
  {
   "cell_type": "markdown",
   "id": "73177a7b",
   "metadata": {},
   "source": [
    "17. Write a Python program to categorize a given character as uppercase, lowercase, or neither using if-else."
   ]
  },
  {
   "cell_type": "code",
   "execution_count": 10,
   "id": "9f35ae7c",
   "metadata": {},
   "outputs": [
    {
     "name": "stdout",
     "output_type": "stream",
     "text": [
      "The character '@' is neither uppercase nor lowercase.\n"
     ]
    }
   ],
   "source": [
    "def categorize_character(char):\n",
    "    if char.isupper():\n",
    "        print(f\"The character '{char}' is uppercase.\")\n",
    "    elif char.islower():\n",
    "        print(f\"The character '{char}' is lowercase.\")\n",
    "    else:\n",
    "        print(f\"The character '{char}' is neither uppercase nor lowercase.\")\n",
    "input_char=input(\"Enter the character\")\n",
    "categorize_character(input_char)"
   ]
  },
  {
   "cell_type": "markdown",
   "id": "f2125f19",
   "metadata": {},
   "source": [
    "18. Write a Python program to determine the roots of a quadratic equation using if-else."
   ]
  },
  {
   "cell_type": "code",
   "execution_count": 15,
   "id": "f4c4e81c",
   "metadata": {},
   "outputs": [
    {
     "name": "stdout",
     "output_type": "stream",
     "text": [
      "The roots are real and distinct.\n",
      "Root 1 = 2.0\n",
      "Root 2 = 1.0\n"
     ]
    }
   ],
   "source": [
    "import math\n",
    "def quadratic_equation(a,b,c):\n",
    "    discriminant = b**2 - 4*a*c\n",
    "    if discriminant>0:\n",
    "        root1=(-b + math.sqrt(discriminant))/(2*a)\n",
    "        root2=(-b - math.sqrt(discriminant))/(2*a)\n",
    "        print(\"The roots are real and distinct.\")\n",
    "        print(f\"Root 1 = {root1}\")\n",
    "        print(f\"Root 2 = {root2}\")\n",
    "    elif discriminant==0:\n",
    "        root=-b/(2*a)\n",
    "        print(\"The roots are real and identical.\")\n",
    "        print(f\"Root 1 = Root 2 = {root}\")\n",
    "    else:\n",
    "        real_part=-b/(2*a)\n",
    "        imaginary_part=math.sqrt(abs(discriminant)/(2*a))\n",
    "        print(\"The roots are complex.\")\n",
    "        print(f\"Root 1 = {real_part} + {imaginary_part}i\")\n",
    "        print(f\"Root 2 = {real_part} - {imaginary_part}i\")\n",
    "a=int(input(\"Enter the value of a\"))\n",
    "b=int(input(\"Enter the value of b\"))\n",
    "c=int(input(\"Enter the value of c\"))\n",
    "quadratic_equation(a,b,c)"
   ]
  },
  {
   "cell_type": "markdown",
   "id": "87122aee",
   "metadata": {},
   "source": [
    "19. Create a Python program that checks if a given year is a century year or not using if-else."
   ]
  },
  {
   "cell_type": "code",
   "execution_count": 18,
   "id": "076f89e6",
   "metadata": {},
   "outputs": [
    {
     "name": "stdout",
     "output_type": "stream",
     "text": [
      "2000 is a century year.\n"
     ]
    }
   ],
   "source": [
    "def century_year(year):\n",
    "    if year % 100 == 0:\n",
    "      print(f\"{year} is a century year.\")\n",
    "    else:\n",
    "       print(f\"{year} is not a century year.\")\n",
    "\n",
    "year=int(input(\"Enter the year\"))\n",
    "century_year(year)"
   ]
  },
  {
   "cell_type": "markdown",
   "id": "6ea2e990",
   "metadata": {},
   "source": [
    "20. Write a Python program to determine if a given number is a perfect square using if-else."
   ]
  },
  {
   "cell_type": "code",
   "execution_count": 20,
   "id": "941e249a",
   "metadata": {},
   "outputs": [
    {
     "name": "stdout",
     "output_type": "stream",
     "text": [
      "25 is a perfect square.\n"
     ]
    }
   ],
   "source": [
    "def is_perfect_square(number):\n",
    "    if number>=0 and (int(number ** 0.5)) ** 2 == number:\n",
    "        print(f\"{number} is a perfect square.\")\n",
    "    else:\n",
    "        print(f\"{number} is not a perfect square.\")\n",
    "number=int(input(\"Enter the number\"))\n",
    "is_perfect_square(number)"
   ]
  },
  {
   "cell_type": "markdown",
   "id": "65eb2c49",
   "metadata": {},
   "source": [
    "21. Explain the purpose of the \"continue\" and \"break\" statements within if-else loops."
   ]
  },
  {
   "cell_type": "code",
   "execution_count": 22,
   "id": "1369fe5f",
   "metadata": {},
   "outputs": [
    {
     "name": "stdout",
     "output_type": "stream",
     "text": [
      "1\n",
      "3\n",
      "5\n",
      "7\n",
      "9\n",
      "You entered: 20\n"
     ]
    }
   ],
   "source": [
    "for i in range(1,11):\n",
    "    if i%2==0:\n",
    "        continue\n",
    "    print(i)\n",
    "while True:\n",
    "    user_input = input(\"Enter a number (or 'exit' to quit): \")\n",
    "    if user_input == 'exit':\n",
    "        break\n",
    "    else:\n",
    "        print(f\"You entered: {user_input}\")"
   ]
  },
  {
   "cell_type": "markdown",
   "id": "5f1b8475",
   "metadata": {},
   "source": [
    "22. Create a Python program that calculates the BMI (Body Mass Index) of a person based on their weight and height using if-else."
   ]
  },
  {
   "cell_type": "code",
   "execution_count": 23,
   "id": "4e786842",
   "metadata": {},
   "outputs": [
    {
     "name": "stdout",
     "output_type": "stream",
     "text": [
      "Your BMI is 0.07, which falls under the category: Underweight.\n"
     ]
    }
   ],
   "source": [
    "def calculate_bmi(weight_kg,height_m):\n",
    "    bmi=weight_kg / (height_m ** 2)\n",
    "    return bmi\n",
    "def interpret_bmi(bmi):\n",
    "    if bmi<18.5:\n",
    "        return \"Underweight\"\n",
    "    elif 18.5 <= bmi < 25:\n",
    "        return \"Normal weight\"\n",
    "    elif 25 <= bmi < 30:\n",
    "        return \"Overweight\"\n",
    "    else:\n",
    "        return \"Obese\"\n",
    "weight = float(input(\"Enter your weight in kilograms: \"))\n",
    "height = float(input(\"Enter your height in meters: \"))\n",
    "bmi = calculate_bmi(weight, height)\n",
    "bmi_category = interpret_bmi(bmi)\n",
    "\n",
    "print(f\"Your BMI is {bmi:.2f}, which falls under the category: {bmi_category}.\")"
   ]
  },
  {
   "cell_type": "markdown",
   "id": "e504e466",
   "metadata": {},
   "source": [
    "23. How can you use the \"filter()\" function with if-else statements to filter elements from a list?"
   ]
  },
  {
   "cell_type": "code",
   "execution_count": 26,
   "id": "0b1979da",
   "metadata": {},
   "outputs": [
    {
     "name": "stdout",
     "output_type": "stream",
     "text": [
      "Even number [2, 4, 6, 8, 10]\n"
     ]
    }
   ],
   "source": [
    "numbers=[i for i in range(1,11)]\n",
    "evenumber=filter(lambda x: True if x%2==0 else False,numbers)\n",
    "even_num_lst=list(evenumber)\n",
    "print(\"Even number\",even_num_lst)"
   ]
  },
  {
   "cell_type": "markdown",
   "id": "1b4cfac6",
   "metadata": {},
   "source": [
    "24. Write a Python program to determine if a given number is prime or not using if-else."
   ]
  },
  {
   "cell_type": "code",
   "execution_count": 27,
   "id": "1e6ec9d9",
   "metadata": {},
   "outputs": [
    {
     "name": "stdout",
     "output_type": "stream",
     "text": [
      "20 is not a prime number.\n"
     ]
    }
   ],
   "source": [
    "def is_prime(number):\n",
    "    if number<=1:\n",
    "        return False\n",
    "    for i in  range(2, int(number**0.5) + 1):\n",
    "        if number % i == 0:\n",
    "            return False\n",
    "    return True\n",
    "num=int(input(\"Enter a number\"))\n",
    "if is_prime(num):\n",
    "    print(f\"{num} is a prime number.\")\n",
    "else:\n",
    "    print(f\"{num} is not a prime number.\")"
   ]
  },
  {
   "cell_type": "markdown",
   "id": "b7b5d2d9",
   "metadata": {},
   "source": [
    "# Map :"
   ]
  },
  {
   "cell_type": "markdown",
   "id": "ec2c50c2",
   "metadata": {},
   "source": [
    "1. Explain the purpose of the `map()` function in Python and provide an example of how it can be used to apply a function to each element of an iterable."
   ]
  },
  {
   "cell_type": "code",
   "execution_count": 28,
   "id": "b4ef5246",
   "metadata": {},
   "outputs": [
    {
     "name": "stdout",
     "output_type": "stream",
     "text": [
      "[2, 4, 6, 8, 10, 12, 14, 16, 18, 20]\n"
     ]
    }
   ],
   "source": [
    "def double(x):\n",
    "    return x*2\n",
    "numbers=[i for i in range(1,11)]\n",
    "doubel_num=map(double,numbers)\n",
    "doubled_num_lst=list(doubel_num)\n",
    "print(doubled_num_lst)"
   ]
  },
  {
   "cell_type": "markdown",
   "id": "0e46fb1c",
   "metadata": {},
   "source": [
    "2. Write a Python program that uses the `map()` function to square each element of a list of numbers."
   ]
  },
  {
   "cell_type": "code",
   "execution_count": 31,
   "id": "6238469e",
   "metadata": {},
   "outputs": [
    {
     "name": "stdout",
     "output_type": "stream",
     "text": [
      "[1, 4, 9, 16, 25, 36, 49, 64, 81, 100]\n"
     ]
    }
   ],
   "source": [
    "numbers=[i for i in range(1,11)]\n",
    "sqr_num=map(lambda x:x**2,numbers)\n",
    "squared_numbers_list = list(sqr_num)\n",
    "print(squared_numbers_list)"
   ]
  },
  {
   "cell_type": "markdown",
   "id": "5aebd0c9",
   "metadata": {},
   "source": [
    "3. How does the `map()` function differ from a list comprehension in Python, and when would you choose one over the other?"
   ]
  },
  {
   "cell_type": "code",
   "execution_count": null,
   "id": "9a95a5ff",
   "metadata": {},
   "outputs": [],
   "source": []
  },
  {
   "cell_type": "markdown",
   "id": "ea048eaa",
   "metadata": {},
   "source": [
    "4. Create a Python program that uses the `map()` function to convert a list of names to uppercase."
   ]
  },
  {
   "cell_type": "code",
   "execution_count": 32,
   "id": "256ff473",
   "metadata": {},
   "outputs": [
    {
     "name": "stdout",
     "output_type": "stream",
     "text": [
      "['RUDRA', 'SOUMYADEEP', 'GOUTAM', 'Name must be a string', 'Name must be a string']\n"
     ]
    }
   ],
   "source": [
    "def convert_uppercase(name):\n",
    "    try:\n",
    "        if not isinstance(name,str):\n",
    "            raise ValueError(\"Name must be a string\")\n",
    "        return name.upper()\n",
    "    except Exception as e:\n",
    "        return str(e)\n",
    "names=[\"Rudra\",\"Soumyadeep\",\"Goutam\",1234,[\"Rocky\"]]\n",
    "uppercase_names=map(convert_uppercase,names)\n",
    "uppercase_names_lst=list(uppercase_names)\n",
    "print(uppercase_names_lst)"
   ]
  },
  {
   "cell_type": "markdown",
   "id": "8980981e",
   "metadata": {},
   "source": [
    "5. Write a Python program that uses the `map()` function to calculate the length of each word in a list of strings."
   ]
  },
  {
   "cell_type": "code",
   "execution_count": 34,
   "id": "d4e39caa",
   "metadata": {},
   "outputs": [
    {
     "name": "stdout",
     "output_type": "stream",
     "text": [
      "[5, 10, 6, 'Word must be a string', 'Word must be a string']\n"
     ]
    }
   ],
   "source": [
    "def calculate_word_length(word):\n",
    "    try:\n",
    "        if not isinstance(word, str):\n",
    "            raise ValueError(\"Word must be a string\")\n",
    "        return len(word)\n",
    "    except Exception as e:\n",
    "        return str(e)\n",
    "\n",
    "Words=[\"apple\", \"banana\", \"orange\", \"grape\", \"pineapple\", 123, [\"kiwi\"]]\n",
    "word_lengths=map(calculate_word_length,names)\n",
    "word_lengths_lst=list(word_lengths)\n",
    "print(word_lengths_lst)"
   ]
  },
  {
   "cell_type": "markdown",
   "id": "81789eae",
   "metadata": {},
   "source": [
    "6. How can you use the `map()` function to apply a custom function to elements of multiple lists simultaneously in Python?"
   ]
  },
  {
   "cell_type": "code",
   "execution_count": 35,
   "id": "19792ee0",
   "metadata": {},
   "outputs": [
    {
     "name": "stdout",
     "output_type": "stream",
     "text": [
      "[12, 14, 16, 18, 20, 22, 24, 26, 28, 30]\n"
     ]
    }
   ],
   "source": [
    "def custom_function(x,y):\n",
    "    return x+y\n",
    "list1=[i for i in range(1,11)]\n",
    "list2=[i for i in range(11,21)]\n",
    "result=map(custom_function,list1,list2)\n",
    "result_list=list(result)\n",
    "print(result_list)"
   ]
  },
  {
   "cell_type": "markdown",
   "id": "4d805c01",
   "metadata": {},
   "source": [
    "7. Create a Python program that uses `map()` to convert a list of temperatures from Celsius to Fahrenheit."
   ]
  },
  {
   "cell_type": "code",
   "execution_count": 36,
   "id": "d29946c1",
   "metadata": {},
   "outputs": [
    {
     "name": "stdout",
     "output_type": "stream",
     "text": [
      "[32.0, 50.0, 68.0, 86.0, 104.0]\n"
     ]
    }
   ],
   "source": [
    "def celsius_to_fahrenheit(celsius):\n",
    "    return(celsius *9/5)+32\n",
    "temperatures_celsius = [0, 10, 20, 30, 40]\n",
    "temperatures_fahrenheit=map(celsius_to_fahrenheit, temperatures_celsius)\n",
    "temperatures_fahrenheit_list = list(temperatures_fahrenheit)\n",
    "print(temperatures_fahrenheit_list)"
   ]
  },
  {
   "cell_type": "markdown",
   "id": "7d62905e",
   "metadata": {},
   "source": [
    "8. Write a Python program that uses the `map()` function to round each element of a list of floating-point numbers to the nearest integer."
   ]
  },
  {
   "cell_type": "code",
   "execution_count": 37,
   "id": "5a8e1227",
   "metadata": {},
   "outputs": [
    {
     "name": "stdout",
     "output_type": "stream",
     "text": [
      "[3, 3, 2, 5, 1]\n"
     ]
    }
   ],
   "source": [
    "float_numbers = [3.14, 2.718, 1.618, 4.669, 0.577]\n",
    "rounded_integers = map(round, float_numbers)\n",
    "rounded_integers_lst=list(rounded_integers)\n",
    "print(rounded_integers_lst)"
   ]
  },
  {
   "cell_type": "markdown",
   "id": "3f62ea36",
   "metadata": {},
   "source": [
    "# Reduce:"
   ]
  },
  {
   "cell_type": "markdown",
   "id": "02d742f0",
   "metadata": {},
   "source": [
    "1. What is the `reduce()` function in Python, and what module should you import to use it? Provide an example of its basic usage."
   ]
  },
  {
   "cell_type": "code",
   "execution_count": 38,
   "id": "a8410574",
   "metadata": {},
   "outputs": [
    {
     "name": "stdout",
     "output_type": "stream",
     "text": [
      "55\n"
     ]
    }
   ],
   "source": [
    "from functools import reduce\n",
    "number=[i for i in range(1,11)]\n",
    "sum_of_numbers = reduce(lambda x, y: x + y, numbers)\n",
    "print(sum_of_numbers)"
   ]
  },
  {
   "cell_type": "markdown",
   "id": "22baec5b",
   "metadata": {},
   "source": [
    "2. Write a Python program that uses the `reduce()` function to find the product of all elements in a list."
   ]
  },
  {
   "cell_type": "code",
   "execution_count": 41,
   "id": "65280ebf",
   "metadata": {},
   "outputs": [
    {
     "name": "stdout",
     "output_type": "stream",
     "text": [
      "3628800\n"
     ]
    }
   ],
   "source": [
    "from functools import reduce\n",
    "numbers = [i for i in range(1,11)]\n",
    "product_of_numbers = reduce(lambda x, y: x * y, numbers)\n",
    "print(product_of_numbers)"
   ]
  },
  {
   "cell_type": "markdown",
   "id": "561cfb96",
   "metadata": {},
   "source": [
    "3. Create a Python program that uses `reduce()` to find the maximum element in a list of numbers."
   ]
  },
  {
   "cell_type": "code",
   "execution_count": 40,
   "id": "609a2fe1",
   "metadata": {},
   "outputs": [
    {
     "name": "stdout",
     "output_type": "stream",
     "text": [
      "Maximum element: 10\n"
     ]
    }
   ],
   "source": [
    "from functools import reduce\n",
    "numbers = [i for i in range(1,11)]\n",
    "max_number = reduce(lambda x, y: x if x > y else y, numbers)\n",
    "print(\"Maximum element:\", max_number)"
   ]
  },
  {
   "cell_type": "markdown",
   "id": "c8b6fa9f",
   "metadata": {},
   "source": [
    "4. How can you use the `reduce()` function to concatenate a list of strings into a single string?"
   ]
  },
  {
   "cell_type": "code",
   "execution_count": 42,
   "id": "36abf917",
   "metadata": {},
   "outputs": [
    {
     "name": "stdout",
     "output_type": "stream",
     "text": [
      "Hello world!\n"
     ]
    }
   ],
   "source": [
    "from functools import reduce\n",
    "strings = [\"Hello\", \" \", \"world\", \"!\"]\n",
    "concatenated_string = reduce(lambda x, y: x + y, strings)\n",
    "print(concatenated_string)"
   ]
  },
  {
   "cell_type": "markdown",
   "id": "07431883",
   "metadata": {},
   "source": [
    "5. Write a Python program that calculates the factorial of a number using the `reduce()` function."
   ]
  },
  {
   "cell_type": "code",
   "execution_count": 44,
   "id": "862b2146",
   "metadata": {},
   "outputs": [
    {
     "name": "stdout",
     "output_type": "stream",
     "text": [
      "The factorial of 5 is: 120\n"
     ]
    }
   ],
   "source": [
    "from functools import reduce\n",
    "def factorial(n):\n",
    "    if n==0:\n",
    "        return 1\n",
    "    return reduce(lambda x, y: x * y, range(1, n + 1))\n",
    "number = int(input(\"Enter a number: \"))\n",
    "factorial_result=factorial(number)\n",
    "print(f\"The factorial of {number} is: {factorial_result}\")"
   ]
  },
  {
   "cell_type": "markdown",
   "id": "f513f5e3",
   "metadata": {},
   "source": [
    "6. Create a Python program that uses `reduce()` to find the GCD (Greatest Common Divisor) of a list of numbers."
   ]
  },
  {
   "cell_type": "code",
   "execution_count": 1,
   "id": "bd726052",
   "metadata": {},
   "outputs": [
    {
     "name": "stdout",
     "output_type": "stream",
     "text": [
      "GCD of the list of numbers: 6\n"
     ]
    }
   ],
   "source": [
    "from functools import reduce\n",
    "from math import gcd\n",
    "def gcd_of_two_numbers(x,y):\n",
    "    return gcd(x,y)\n",
    "numbers=[12, 18, 24, 36]\n",
    "gcd_of_list=reduce(gcd_of_two_numbers,numbers)\n",
    "print(\"GCD of the list of numbers:\", gcd_of_list)"
   ]
  },
  {
   "cell_type": "markdown",
   "id": "89a7f1a1",
   "metadata": {},
   "source": [
    "7. Write a Python program that uses the `reduce()` function to find the sum of the digits of a given number."
   ]
  },
  {
   "cell_type": "code",
   "execution_count": 3,
   "id": "b6f02b2d",
   "metadata": {},
   "outputs": [
    {
     "name": "stdout",
     "output_type": "stream",
     "text": [
      "The sum of the digits of 20 is: 2\n"
     ]
    }
   ],
   "source": [
    "from functools import reduce\n",
    "def sum_of_digits(numbers):\n",
    "    digits=list(str(numbers))\n",
    "    return reduce(lambda x,y: int(x)+int(y),digits)\n",
    "numbers=int(input(\"Enter a number\"))\n",
    "sum_of_digits_result=sum_of_digits(numbers)\n",
    "print(f\"The sum of the digits of {numbers} is: {sum_of_digits_result}\")"
   ]
  },
  {
   "cell_type": "markdown",
   "id": "11bf57c6",
   "metadata": {},
   "source": [
    "# Filter :"
   ]
  },
  {
   "cell_type": "markdown",
   "id": "b6bff196",
   "metadata": {},
   "source": [
    "1. Explain the purpose of the `filter()` function in Python and provide an example of how it can be used to filter elements from an iterable."
   ]
  },
  {
   "cell_type": "code",
   "execution_count": 4,
   "id": "6a228451",
   "metadata": {},
   "outputs": [
    {
     "name": "stdout",
     "output_type": "stream",
     "text": [
      "[2, 4, 6, 8, 10]\n"
     ]
    }
   ],
   "source": [
    "number=[i for i in range(1,11)]\n",
    "evenumber=filter(lambda x:x%2==0, number)\n",
    "even_num_lst=list(evenumber)\n",
    "print(even_num_lst)"
   ]
  },
  {
   "cell_type": "markdown",
   "id": "f4b6b5ac",
   "metadata": {},
   "source": [
    "2. Write a Python program that uses the `filter()` function to select even numbers from a list of integers."
   ]
  },
  {
   "cell_type": "code",
   "execution_count": 5,
   "id": "b05f71aa",
   "metadata": {},
   "outputs": [
    {
     "name": "stdout",
     "output_type": "stream",
     "text": [
      "[2, 4, 6, 8, 10]\n"
     ]
    }
   ],
   "source": [
    "def is_evenumber(number):\n",
    "    if number % 2==0:\n",
    "        return True\n",
    "    else:\n",
    "        return False\n",
    "number=[i for i in range(1,11)]\n",
    "evenumber=filter(is_evenumber,number)\n",
    "even_numbers_list=list(evenumber)\n",
    "print(even_num_lst)"
   ]
  },
  {
   "cell_type": "markdown",
   "id": "fe82d88a",
   "metadata": {},
   "source": [
    "3. Create a Python program that uses the `filter()` function to select names that start with a specific letter from a list of strings."
   ]
  },
  {
   "cell_type": "code",
   "execution_count": 12,
   "id": "f9ade967",
   "metadata": {},
   "outputs": [
    {
     "name": "stdout",
     "output_type": "stream",
     "text": [
      "['Soumyadeep', 'Sandip', 'Sudip']\n"
     ]
    }
   ],
   "source": [
    "list_name=[\"Rudra\", \"Beta\", \"Soumyadeep\", \"Sandip\", \"Sudip\", \"Rocky\"]\n",
    "specific_letter=input(\"Enter the specific letter\")\n",
    "filterd_name=filter(lambda name: name.startswith(specific_letter),list_name)\n",
    "filterd_name_lst=list(filterd_name)\n",
    "print(filterd_name_lst)"
   ]
  },
  {
   "cell_type": "markdown",
   "id": "8ba14379",
   "metadata": {},
   "source": [
    "4. Write a Python program that uses the `filter()` function to select prime numbers from a list of integers."
   ]
  },
  {
   "cell_type": "code",
   "execution_count": 13,
   "id": "04bf348e",
   "metadata": {},
   "outputs": [
    {
     "name": "stdout",
     "output_type": "stream",
     "text": [
      "[2, 3, 5, 7, 11, 13]\n"
     ]
    }
   ],
   "source": [
    "def is_prime(number):\n",
    "    if number<=1:\n",
    "        return False\n",
    "    for i in range(2,int(number**0.5)+1):\n",
    "        if number % i==0:\n",
    "            return False\n",
    "    return True\n",
    "number=[i for i in range(2,16)]\n",
    "prime_num=filter(is_prime,number)\n",
    "prime_num_lst=list(prime_num)\n",
    "print(prime_num_lst)"
   ]
  },
  {
   "cell_type": "markdown",
   "id": "27141e43",
   "metadata": {},
   "source": [
    "5. How can you use the `filter()` function to remove None values from a list in Python?"
   ]
  },
  {
   "cell_type": "code",
   "execution_count": 15,
   "id": "945f8063",
   "metadata": {},
   "outputs": [
    {
     "name": "stdout",
     "output_type": "stream",
     "text": [
      "[1, 2, 3, 4, 5]\n"
     ]
    }
   ],
   "source": [
    "value=[1,None,2,None,3,None,4,None,5]\n",
    "filter_value=filter(lambda x : x is not None,value)\n",
    "filter_value_lst=list(filter_value)\n",
    "print(filter_value_lst)"
   ]
  },
  {
   "cell_type": "markdown",
   "id": "7259f310",
   "metadata": {},
   "source": [
    "6. Create a Python program that uses `filter()` to select words longer than a certain length from a list of strings."
   ]
  },
  {
   "cell_type": "code",
   "execution_count": 17,
   "id": "7177036b",
   "metadata": {},
   "outputs": [
    {
     "name": "stdout",
     "output_type": "stream",
     "text": [
      "['banana', 'orange', 'grapefruit', 'pineapple']\n"
     ]
    }
   ],
   "source": [
    "word=[\"apple\", \"banana\", \"kiwi\", \"orange\", \"pear\", \"grapefruit\", \"pineapple\"]\n",
    "min_length=5\n",
    "filter_word=filter(lambda word: len(word)>min_length,word)\n",
    "filter_word_lst=list(filter_word)\n",
    "print(filter_word_lst)"
   ]
  },
  {
   "cell_type": "markdown",
   "id": "86fd7aa2",
   "metadata": {},
   "source": [
    "7. Write a Python program that uses the `filter()` function to select elements greater than a specified threshold from a list of values."
   ]
  },
  {
   "cell_type": "code",
   "execution_count": 18,
   "id": "b873a47e",
   "metadata": {},
   "outputs": [
    {
     "name": "stdout",
     "output_type": "stream",
     "text": [
      "[25, 30, 40]\n"
     ]
    }
   ],
   "source": [
    "values=[10,25,30,15,5,20,40]\n",
    "threshold=20\n",
    "filter_values=filter(lambda x: x>threshold,values)\n",
    "filter_values_lst=list(filter_values)\n",
    "print(filter_values_lst)"
   ]
  },
  {
   "cell_type": "markdown",
   "id": "1edb2c30",
   "metadata": {},
   "source": [
    "# Recursion:"
   ]
  },
  {
   "cell_type": "markdown",
   "id": "85802d4e",
   "metadata": {},
   "source": [
    "1. Explain the concept of recursion in Python. How does it differ from iteration?"
   ]
  },
  {
   "cell_type": "code",
   "execution_count": 23,
   "id": "784c1a43",
   "metadata": {},
   "outputs": [
    {
     "name": "stdout",
     "output_type": "stream",
     "text": [
      "The factoal of 5 is : 120 \n"
     ]
    }
   ],
   "source": [
    "def factorial(n):\n",
    "    if n==0:\n",
    "        return 1\n",
    "    else:\n",
    "        return n*factorial(n-1)\n",
    "input_number=int(input(\"Enter a non-negative integer:\"))\n",
    "factorial_num=factorial(input_number)\n",
    "print(f\"The factoal of {input_number} is : {factorial_num} \")"
   ]
  },
  {
   "cell_type": "markdown",
   "id": "8d478ca3",
   "metadata": {},
   "source": [
    "2. Write a Python program to calculate the factorial of a number using recursion."
   ]
  },
  {
   "cell_type": "code",
   "execution_count": 24,
   "id": "77ec91bb",
   "metadata": {},
   "outputs": [
    {
     "name": "stdout",
     "output_type": "stream",
     "text": [
      "The factoal of 5 is : 120 \n"
     ]
    }
   ],
   "source": [
    "def factorial(n):\n",
    "    if n==0:\n",
    "        return 1\n",
    "    else:\n",
    "        return n*factorial(n-1)\n",
    "number=int(input(\"Enter the number\"))\n",
    "result=factorial(number)\n",
    "print(f\"The factoal of {number} is : {result} \")"
   ]
  },
  {
   "cell_type": "markdown",
   "id": "17879581",
   "metadata": {},
   "source": [
    "3. Create a recursive Python function to find the nth Fibonacci number."
   ]
  },
  {
   "cell_type": "code",
   "execution_count": 26,
   "id": "c06d5a7b",
   "metadata": {},
   "outputs": [
    {
     "name": "stdout",
     "output_type": "stream",
     "text": [
      "The 10th Fibonacci number is: 55\n"
     ]
    }
   ],
   "source": [
    "def fibonacci(n):\n",
    "    if n<=1:\n",
    "        return n\n",
    "    else:\n",
    "        return fibonacci(n-1)+ fibonacci(n-2)\n",
    "n=int(input(\"Enter the Value of n  to find the nth Fibonacci number:\"))\n",
    "result=fibonacci(n)\n",
    "print(f\"The {n}th Fibonacci number is: {result}\")"
   ]
  },
  {
   "cell_type": "markdown",
   "id": "efd3a451",
   "metadata": {},
   "source": [
    "4. Write a recursive Python function to calculate the sum of all elements in a list."
   ]
  },
  {
   "cell_type": "code",
   "execution_count": 29,
   "id": "1a1ec228",
   "metadata": {},
   "outputs": [
    {
     "name": "stdout",
     "output_type": "stream",
     "text": [
      "The sum of all elements in the list is: 15\n"
     ]
    }
   ],
   "source": [
    "def recursive_sum(lst):\n",
    "    if not lst:\n",
    "        return 0\n",
    "    else:\n",
    "        return lst[0] + recursive_sum(lst[1:])\n",
    "numbers=[1,2,3,4,5]\n",
    "result=recursive_sum(numbers)\n",
    "print(\"The sum of all elements in the list is:\", result)"
   ]
  },
  {
   "cell_type": "markdown",
   "id": "a8aacb99",
   "metadata": {},
   "source": [
    "5. How can you prevent a recursive function from running indefinitely, causing a stack overflow error?"
   ]
  },
  {
   "cell_type": "code",
   "execution_count": 1,
   "id": "6d6461c7",
   "metadata": {},
   "outputs": [
    {
     "name": "stdout",
     "output_type": "stream",
     "text": [
      "120\n",
      "6\n",
      "120\n",
      "20\n"
     ]
    }
   ],
   "source": [
    "#Example of a Correct Recursive Function\n",
    "def factorial(n):\n",
    "    if n==0 or n==1:\n",
    "        return 1\n",
    "    else:\n",
    "        return n* factorial(n-1)\n",
    "print(factorial(5))\n",
    "#Example of Preventing Infinite Recursion\n",
    "def gcd(a, b):\n",
    "    if b == 0:\n",
    "        return a\n",
    "    else:\n",
    "        return gcd(b, a % b)\n",
    "print(gcd(48, 18))\n",
    "#Example with Maximum Recursion Depth\n",
    "import sys\n",
    "def limited_recursion(n, max_depth, current_depth=0):\n",
    "    if n == 0 or n == 1 or current_depth >= max_depth:\n",
    "        return 1\n",
    "    else:\n",
    "        return n * limited_recursion(n - 1, max_depth, current_depth + 1)\n",
    "print(limited_recursion(5, 10))\n",
    "print(limited_recursion(5, 2))"
   ]
  },
  {
   "cell_type": "markdown",
   "id": "18141679",
   "metadata": {},
   "source": [
    "6. Create a recursive Python function to find the greatest common divisor (GCD) of two numbers using the Euclidean algorithm."
   ]
  },
  {
   "cell_type": "code",
   "execution_count": 1,
   "id": "5602ce2e",
   "metadata": {},
   "outputs": [
    {
     "name": "stdout",
     "output_type": "stream",
     "text": [
      "The GCD of 20 and 40 is: 20\n"
     ]
    }
   ],
   "source": [
    "def gcd(a,b):\n",
    "    if b==0:\n",
    "        return a\n",
    "    else:\n",
    "        return gcd(b,a%b)\n",
    "num1=int(input(\"Enter the first number: \"))\n",
    "num2=int(input(\"Enter the second number: \"))\n",
    "result=gcd(num1,num2)\n",
    "print((f\"The GCD of {num1} and {num2} is: {result}\"))"
   ]
  },
  {
   "cell_type": "markdown",
   "id": "41eea221",
   "metadata": {},
   "source": [
    "7. Write a recursive Python function to reverse a string."
   ]
  },
  {
   "cell_type": "code",
   "execution_count": 3,
   "id": "24e7f311",
   "metadata": {},
   "outputs": [
    {
     "name": "stdout",
     "output_type": "stream",
     "text": [
      "The reversed string is: 321\n"
     ]
    }
   ],
   "source": [
    "def reverse_string(s):\n",
    "    if len(s)<=1:\n",
    "        return s\n",
    "    else:\n",
    "        return reverse_string(s[1:])+s[0]\n",
    "input_string=input(\"Enter a string to reverse: \")\n",
    "reverse_string=reverse_string(input_string)\n",
    "print(f\"The reversed string is: {reverse_string}\")"
   ]
  },
  {
   "cell_type": "markdown",
   "id": "3f55b1eb",
   "metadata": {},
   "source": [
    "8. Create a recursive Python function to calculate the power of a number (x^n)."
   ]
  },
  {
   "cell_type": "code",
   "execution_count": 4,
   "id": "e16e8f9f",
   "metadata": {},
   "outputs": [
    {
     "name": "stdout",
     "output_type": "stream",
     "text": [
      "20.0 raised to the power of 3.0 is: 8000.0\n"
     ]
    }
   ],
   "source": [
    "def power(x,n):\n",
    "    if n==0:\n",
    "        return 1\n",
    "    else:\n",
    "        return x * power(x,n-1)\n",
    "base=float(input(\"Enter a base number(x)\"))\n",
    "exponent=float(input(\"Enter a exponent number(n)\"))\n",
    "result=power(base,exponent)\n",
    "print(f\"{base} raised to the power of {exponent} is: {result}\")"
   ]
  },
  {
   "cell_type": "markdown",
   "id": "8c591b41",
   "metadata": {},
   "source": [
    "9. Write a recursive Python function to find all permutations of a given string."
   ]
  },
  {
   "cell_type": "code",
   "execution_count": 11,
   "id": "9957f858",
   "metadata": {},
   "outputs": [
    {
     "name": "stdout",
     "output_type": "stream",
     "text": [
      "All permutations of '123' are:\n",
      "123\n",
      "132\n",
      "213\n",
      "231\n",
      "312\n",
      "321\n"
     ]
    }
   ],
   "source": [
    "def permute(s):\n",
    "    if len(s)==0:\n",
    "        return ['']\n",
    "    permutations=[]\n",
    "    for i in range(len(s)):\n",
    "        char= s[i]\n",
    "        remaining=s[:i]+s[i+1:]\n",
    "        for prem in permute(remaining):\n",
    "            permutations.append(char + prem)\n",
    "    return permutations\n",
    "input_string=input(\"Enter a string to find its permutations:\")\n",
    "result=permute(input_string)\n",
    "print(f\"All permutations of '{input_string}' are:\")\n",
    "for prem in result:\n",
    "    print(prem)"
   ]
  },
  {
   "cell_type": "markdown",
   "id": "082e5aaa",
   "metadata": {},
   "source": [
    "10. Write a recursive Python function to check if a string is a palindrome."
   ]
  },
  {
   "cell_type": "code",
   "execution_count": 15,
   "id": "0b667bfb",
   "metadata": {},
   "outputs": [
    {
     "name": "stdout",
     "output_type": "stream",
     "text": [
      "'12321' is a palindrome.\n"
     ]
    }
   ],
   "source": [
    "def is_palindrome(s):\n",
    "    if len(s)<=1:\n",
    "        return True\n",
    "    if s[0]!=s[-1]:\n",
    "        return False\n",
    "    return is_palindrome(s[1:-1])\n",
    "input_string=input(\"Enter a string to check if it is a palindrome:\")\n",
    "if is_palindrome(input_string):\n",
    "    print(f\"'{input_string}' is a palindrome.\")\n",
    "else:\n",
    "    print(f\"'{input_string}' is not a palindrome.\")"
   ]
  },
  {
   "cell_type": "markdown",
   "id": "7de4dc04",
   "metadata": {},
   "source": [
    "11. Create a recursive Python function to generate all possible combinations of a list of elements."
   ]
  },
  {
   "cell_type": "code",
   "execution_count": 19,
   "id": "bcdc7e8f",
   "metadata": {},
   "outputs": [
    {
     "name": "stdout",
     "output_type": "stream",
     "text": [
      "All possible combinations are:\n",
      "[]\n",
      "['3']\n",
      "['2']\n",
      "['2', '3']\n",
      "['1']\n",
      "['1', '3']\n",
      "['1', '2']\n",
      "['1', '2', '3']\n"
     ]
    }
   ],
   "source": [
    "def combinations(lst):\n",
    "    if len(lst)==0:\n",
    "        return[[]]\n",
    "    first=lst[0]\n",
    "    rest=lst[1:]\n",
    "    without_first=combinations(rest)\n",
    "    with_first=[[first]+combination for combination in without_first]\n",
    "    return without_first + with_first\n",
    "elements=input(\"Enter a list of elements separated by spaces: \").split()\n",
    "result=combinations(elements)\n",
    "print(\"All possible combinations are:\")\n",
    "for combo in result:\n",
    "    print(combo)"
   ]
  },
  {
   "cell_type": "markdown",
   "id": "607ba1cd",
   "metadata": {},
   "source": [
    "# Basics of Functions :"
   ]
  },
  {
   "cell_type": "markdown",
   "id": "9288ad10",
   "metadata": {},
   "source": [
    "1. What is a function in Python, and why is it used?"
   ]
  },
  {
   "cell_type": "code",
   "execution_count": null,
   "id": "7ce16945",
   "metadata": {},
   "outputs": [],
   "source": []
  },
  {
   "cell_type": "markdown",
   "id": "0ce9256e",
   "metadata": {},
   "source": [
    "2. How do you define a function in Python? Provide an example."
   ]
  },
  {
   "cell_type": "code",
   "execution_count": 21,
   "id": "47a8922e",
   "metadata": {},
   "outputs": [
    {
     "name": "stdout",
     "output_type": "stream",
     "text": [
      "The sum of '10' and '20' is: 30\n"
     ]
    }
   ],
   "source": [
    "def function_name(parameters):\n",
    "    return value\n",
    "def add_number(a,b):\n",
    "    sum=a+b\n",
    "    return sum\n",
    "num1=int(input(\"Enter the first num\"))\n",
    "num2=int(input(\"Enter the two num\"))\n",
    "result=add_number(num1, num2)\n",
    "print(f\"The sum of '{num1}' and '{num2}' is: {result}\")"
   ]
  },
  {
   "cell_type": "markdown",
   "id": "bd5839fe",
   "metadata": {},
   "source": [
    "3. Explain the difference between a function definition and a function call."
   ]
  },
  {
   "cell_type": "code",
   "execution_count": null,
   "id": "98c13e2f",
   "metadata": {},
   "outputs": [],
   "source": []
  },
  {
   "cell_type": "markdown",
   "id": "29d06c8a",
   "metadata": {},
   "source": [
    "4. Write a Python program that defines a function to calculate the sum of two numbers and then calls the function."
   ]
  },
  {
   "cell_type": "code",
   "execution_count": 1,
   "id": "4620f3a8",
   "metadata": {},
   "outputs": [
    {
     "name": "stdout",
     "output_type": "stream",
     "text": [
      "The sum of 5 and 7 is: 12\n"
     ]
    }
   ],
   "source": [
    "def add_numbers(a, b):\n",
    "    \"\"\"Returns the sum of two numbers.\"\"\"\n",
    "    return a + b\n",
    "number1 = 5\n",
    "number2 = 7\n",
    "result = add_numbers(number1, number2)\n",
    "print(\"The sum of\", number1, \"and\", number2, \"is:\", result)"
   ]
  },
  {
   "cell_type": "markdown",
   "id": "59e2ee40",
   "metadata": {},
   "source": [
    "5. What is a function signature, and what information does it typically include?"
   ]
  },
  {
   "cell_type": "code",
   "execution_count": 3,
   "id": "e34ae8d7",
   "metadata": {},
   "outputs": [
    {
     "name": "stdout",
     "output_type": "stream",
     "text": [
      "78.53975\n",
      "78.5\n"
     ]
    }
   ],
   "source": [
    "def calculate_area(radius: float, pi: float = 3.14) -> float:\n",
    "    return pi * radius * radius\n",
    "area = calculate_area(5, 3.14159)\n",
    "print(area)\n",
    "area_default_pi = calculate_area(5)\n",
    "print(area_default_pi)\n"
   ]
  },
  {
   "cell_type": "markdown",
   "id": "6067abea",
   "metadata": {},
   "source": [
    "6. Create a Python function that takes two arguments and returns their product."
   ]
  },
  {
   "cell_type": "code",
   "execution_count": 4,
   "id": "8c9509a0",
   "metadata": {},
   "outputs": [
    {
     "name": "stdout",
     "output_type": "stream",
     "text": [
      "The product is: 20\n"
     ]
    }
   ],
   "source": [
    "def multiply(a, b):\n",
    "    return a * b\n",
    "result = multiply(4, 5)\n",
    "print(\"The product is:\", result)\n"
   ]
  },
  {
   "cell_type": "markdown",
   "id": "98cd107a",
   "metadata": {},
   "source": [
    "# Function Parameters and Arguments:"
   ]
  },
  {
   "cell_type": "markdown",
   "id": "e6c4f99c",
   "metadata": {},
   "source": [
    "1. Explain the concepts of formal parameters and actual arguments in Python functions."
   ]
  },
  {
   "cell_type": "code",
   "execution_count": 23,
   "id": "3e7560fe",
   "metadata": {},
   "outputs": [
    {
     "name": "stdout",
     "output_type": "stream",
     "text": [
      "Hello, PWSkills!\n",
      "Hi, Rudra!\n",
      "Hello, Rudra!\n",
      "Hey, Rudra!\n",
      "Greetings, PWSkills!\n"
     ]
    }
   ],
   "source": [
    "def greet(name,message=\"Hello\"):\n",
    "    print(f\"{message}, {name}!\")\n",
    "greet(\"PWSkills\")\n",
    "greet(\"Rudra\",\"Hi\")\n",
    "\n",
    "greet(name=\"Rudra\")\n",
    "greet(message=\"Hey\", name=\"Rudra\")\n",
    "\n",
    "greet(\"PWSkills\", message=\"Greetings\")"
   ]
  },
  {
   "cell_type": "markdown",
   "id": "889024b0",
   "metadata": {},
   "source": [
    "2. Write a Python program that defines a function with default argument values."
   ]
  },
  {
   "cell_type": "code",
   "execution_count": 1,
   "id": "1e1676bb",
   "metadata": {},
   "outputs": [
    {
     "name": "stdout",
     "output_type": "stream",
     "text": [
      "1800\n"
     ]
    }
   ],
   "source": [
    "def calculate_area(length=1,width=1):\n",
    "    return length *width\n",
    "input_length=int(input(\"Enter the length\"))\n",
    "input_width=int(input(\"Enter the width\"))\n",
    "result=calculate_area(input_length,input_width)\n",
    "print(result)"
   ]
  },
  {
   "cell_type": "markdown",
   "id": "f4ba6847",
   "metadata": {},
   "source": [
    "3. How do you use keyword arguments in Python function calls? Provide an example."
   ]
  },
  {
   "cell_type": "code",
   "execution_count": 5,
   "id": "861d524e",
   "metadata": {},
   "outputs": [
    {
     "name": "stdout",
     "output_type": "stream",
     "text": [
      "('Dog', 'Doodle')\n"
     ]
    }
   ],
   "source": [
    "def describe_pet(animal_type, pet_name):\n",
    "    return animal_type, pet_name\n",
    "input_animal_type=input(\"Enter the Animal type\")\n",
    "input_pet_name=input(\"Enter the Pet name\")\n",
    "result=describe_pet(input_animal_type,input_pet_name)\n",
    "print(result)"
   ]
  },
  {
   "cell_type": "markdown",
   "id": "fb705cdc",
   "metadata": {},
   "source": [
    "4. Create a Python function that accepts a variable number of arguments and calculates their sum."
   ]
  },
  {
   "cell_type": "code",
   "execution_count": 12,
   "id": "dfc7b0dd",
   "metadata": {},
   "outputs": [
    {
     "name": "stdout",
     "output_type": "stream",
     "text": [
      "6\n",
      "50\n",
      "7\n",
      "0\n"
     ]
    }
   ],
   "source": [
    "def calculate_sum(*args):\n",
    "    total=0\n",
    "    for num in args:\n",
    "        total+=num\n",
    "    return total\n",
    "print(calculate_sum(1, 2, 3))        \n",
    "print(calculate_sum(5, 10, 15, 20))  \n",
    "print(calculate_sum(7))              \n",
    "print(calculate_sum())      "
   ]
  },
  {
   "cell_type": "markdown",
   "id": "f48d9a17",
   "metadata": {},
   "source": [
    "5. What is the purpose of the `*args` and `**kwargs` syntax in function parameter lists?"
   ]
  },
  {
   "cell_type": "code",
   "execution_count": 17,
   "id": "320ee4f5",
   "metadata": {},
   "outputs": [
    {
     "name": "stdout",
     "output_type": "stream",
     "text": [
      "Hello, Alice\n",
      "Hello, Bob\n",
      "Hello, Charlie\n",
      "Name: Doodle\n",
      "Species: Dog\n",
      "Age: 1\n"
     ]
    }
   ],
   "source": [
    "def greet(*args):\n",
    "    for name in args:\n",
    "        print(f\"Hello, {name}\")\n",
    "greet(\"Alice\", \"Bob\", \"Charlie\")\n",
    "\n",
    "def pet_info(**kwargs):\n",
    "    for key,value in kwargs.items():\n",
    "        print(f\"{key}: {value}\")\n",
    "pet_info( Name= \"Doodle\", Species= \"Dog\", Age=1)\n"
   ]
  },
  {
   "cell_type": "markdown",
   "id": "a7bb0168",
   "metadata": {},
   "source": [
    "# Return Values and Scoping:"
   ]
  },
  {
   "cell_type": "markdown",
   "id": "2f66829c",
   "metadata": {},
   "source": [
    "1. Describe the role of the `return` statement in Python functions and provide examples."
   ]
  },
  {
   "cell_type": "code",
   "execution_count": 30,
   "id": "6c248fc2",
   "metadata": {},
   "outputs": [],
   "source": [
    "def square(number):\n",
    "    return number * number"
   ]
  },
  {
   "cell_type": "code",
   "execution_count": 31,
   "id": "85ebab40",
   "metadata": {},
   "outputs": [
    {
     "name": "stdout",
     "output_type": "stream",
     "text": [
      "Minimum: 1, Maximum: 9\n"
     ]
    }
   ],
   "source": [
    "def get_min_max(numbers):\n",
    "    if not numbers:\n",
    "        return None, None\n",
    "    min_val = min(numbers)\n",
    "    max_val = max(numbers)\n",
    "    return min_val, max_val\n",
    "numbers = [3, 1, 4, 1, 5, 9, 2, 6, 5]\n",
    "min_val, max_val = get_min_max(numbers)\n",
    "print(f\"Minimum: {min_val}, Maximum: {max_val}\")"
   ]
  },
  {
   "cell_type": "code",
   "execution_count": 32,
   "id": "3df4644a",
   "metadata": {},
   "outputs": [
    {
     "name": "stdout",
     "output_type": "stream",
     "text": [
      "Odd\n"
     ]
    }
   ],
   "source": [
    "def check_even_odd(number):\n",
    "    if number % 2 == 0:\n",
    "        return \"Even\"\n",
    "    else:\n",
    "        return \"Odd\"\n",
    "result = check_even_odd(7)\n",
    "print(result)"
   ]
  },
  {
   "cell_type": "code",
   "execution_count": 33,
   "id": "0d7f4302",
   "metadata": {},
   "outputs": [
    {
     "name": "stdout",
     "output_type": "stream",
     "text": [
      "5.0\n",
      "Division by zero is undefined.\n"
     ]
    }
   ],
   "source": [
    "def divide(a, b):\n",
    "    if b == 0:\n",
    "        return \"Division by zero is undefined.\"\n",
    "    return a / b\n",
    "result1 = divide(10, 2)\n",
    "result2 = divide(10, 0)\n",
    "print(result1)\n",
    "print(result2)"
   ]
  },
  {
   "cell_type": "markdown",
   "id": "e1bc921c",
   "metadata": {},
   "source": [
    "2. Explain the concept of variable scope in Python, including local and global variables."
   ]
  },
  {
   "cell_type": "code",
   "execution_count": 24,
   "id": "de6168b6",
   "metadata": {},
   "outputs": [
    {
     "name": "stdout",
     "output_type": "stream",
     "text": [
      "10\n",
      "20\n",
      "40\n",
      "70\n",
      "15\n"
     ]
    }
   ],
   "source": [
    "def my_function():\n",
    "    local_var = 10\n",
    "    print(local_var)\n",
    "my_function()\n",
    "global_var = 20\n",
    "def another_function():\n",
    "    print(global_var)\n",
    "another_function()\n",
    "def modify_local():\n",
    "    local_var = 30\n",
    "    local_var += 10\n",
    "    print(local_var)\n",
    "modify_local()\n",
    "global_var = 50\n",
    "def modify_global():\n",
    "    global global_var\n",
    "    global_var += 20\n",
    "modify_global()\n",
    "print(global_var)\n",
    "def outer_function():\n",
    "    enclosing_var = 5\n",
    "    def inner_function():\n",
    "        nonlocal enclosing_var \n",
    "        enclosing_var += 10\n",
    "    inner_function()\n",
    "    print(enclosing_var)  \n",
    "outer_function()"
   ]
  },
  {
   "cell_type": "markdown",
   "id": "0f982fb1",
   "metadata": {},
   "source": [
    "3. Write a Python program that demonstrates the use of global variables within functions."
   ]
  },
  {
   "cell_type": "code",
   "execution_count": 26,
   "id": "a50b12c4",
   "metadata": {},
   "outputs": [
    {
     "name": "stdout",
     "output_type": "stream",
     "text": [
      "Current counter value: 0\n",
      "Counter after increment: 1\n",
      "Counter after increment: 2\n",
      "Counter after reset: 0\n",
      "Current counter value: 0\n"
     ]
    }
   ],
   "source": [
    "counter = 0\n",
    "def increment_counter():\n",
    "    global counter\n",
    "    counter += 1\n",
    "    print(f\"Counter after increment: {counter}\")\n",
    "def reset_counter():\n",
    "    global counter\n",
    "    counter = 0\n",
    "    print(f\"Counter after reset: {counter}\")\n",
    "def display_counter():\n",
    "    print(f\"Current counter value: {counter}\")\n",
    "def main():\n",
    "    display_counter()  \n",
    "    increment_counter()\n",
    "    increment_counter()\n",
    "    reset_counter() \n",
    "    display_counter()\n",
    "if __name__ == \"__main__\":\n",
    "    main()"
   ]
  },
  {
   "cell_type": "markdown",
   "id": "52d3ceb4",
   "metadata": {},
   "source": [
    "4. Create a Python function that calculates the factorial of a number and returns it."
   ]
  },
  {
   "cell_type": "code",
   "execution_count": 27,
   "id": "798388e6",
   "metadata": {},
   "outputs": [
    {
     "name": "stdout",
     "output_type": "stream",
     "text": [
      "The factorial of 5 is 120\n"
     ]
    }
   ],
   "source": [
    "def factorial(n):\n",
    "    if n < 0:\n",
    "        raise ValueError(\"Factorial is not defined for negative numbers\")\n",
    "    elif n == 0 or n == 1:\n",
    "        return 1\n",
    "    else:\n",
    "        result = 1\n",
    "        for i in range(2, n + 1):\n",
    "            result *= i\n",
    "        return result\n",
    "number = 5\n",
    "print(f\"The factorial of {number} is {factorial(number)}\")"
   ]
  },
  {
   "cell_type": "markdown",
   "id": "cc3a7bc8",
   "metadata": {},
   "source": [
    "5. How can you access variables defined outside a function from within the function?"
   ]
  },
  {
   "cell_type": "code",
   "execution_count": 23,
   "id": "2e3307be",
   "metadata": {},
   "outputs": [
    {
     "name": "stdout",
     "output_type": "stream",
     "text": [
      "10\n",
      "20\n",
      "5\n",
      "30\n",
      "1\n"
     ]
    }
   ],
   "source": [
    "x = 10\n",
    "def print_x():\n",
    "    print(x)\n",
    "print_x()\n",
    "\n",
    "def modify_x():\n",
    "    global x \n",
    "    x = 20\n",
    "modify_x()\n",
    "print(x)  \n",
    "\n",
    "def local_scope_example():\n",
    "    y = 5\n",
    "    print(y)\n",
    "local_scope_example()\n",
    "\n",
    "z = 30 \n",
    "def access_global_variable():\n",
    "    print(z)\n",
    "access_global_variable()\n",
    "\n",
    "count = 0 \n",
    "def increment_count():\n",
    "    global count\n",
    "    count += 1\n",
    "increment_count()\n",
    "print(count)\n"
   ]
  },
  {
   "cell_type": "markdown",
   "id": "d75c8451",
   "metadata": {},
   "source": [
    "# Lambda Functions and Higher-Order Functions:"
   ]
  },
  {
   "cell_type": "markdown",
   "id": "884a80aa",
   "metadata": {},
   "source": [
    "1. What are lambda functions in Python, and when are they typically used?"
   ]
  },
  {
   "cell_type": "code",
   "execution_count": 6,
   "id": "cbd69ba6",
   "metadata": {},
   "outputs": [
    {
     "name": "stdout",
     "output_type": "stream",
     "text": [
      "8\n",
      "[1, 4, 9, 16]\n",
      "[2, 4, 6]\n",
      "['apple', 'banana', 'cherry']\n",
      "5\n",
      "20\n",
      "20\n"
     ]
    }
   ],
   "source": [
    "# A simple lambda function to add two numbers\n",
    "add = lambda x, y: x + y\n",
    "\n",
    "# Using the lambda function\n",
    "result = add(5, 3)\n",
    "print(result)\n",
    "\n",
    "#map()\n",
    "numbers = [1, 2, 3, 4]\n",
    "squared = map(lambda x: x ** 2, numbers)\n",
    "print(list(squared)) \n",
    "\n",
    "#filter()\n",
    "numbers = [1, 2, 3, 4, 5, 6]\n",
    "evens = filter(lambda x: x % 2 == 0, numbers)\n",
    "print(list(evens))\n",
    "\n",
    "# sorted() \n",
    "words = [\"apple\", \"banana\", \"cherry\"]\n",
    "sorted_words = sorted(words, key=lambda word: len(word))\n",
    "print(sorted_words)\n",
    "\n",
    "#Exemple\n",
    "def make_incrementor(n):\n",
    "    return lambda x: x + n\n",
    "increment_by_2 = make_incrementor(2)\n",
    "print(increment_by_2(3))\n",
    "\n",
    "#Lambda vs. Named Function\n",
    "\n",
    "#Lambda function\n",
    "multiply = lambda x, y: x * y\n",
    "print(multiply(4, 5)) \n",
    "\n",
    "#Named Function\n",
    "def multiply(x, y):\n",
    "    return x * y\n",
    "print(multiply(4, 5))\n",
    "\n",
    "\n"
   ]
  },
  {
   "cell_type": "markdown",
   "id": "959037ec",
   "metadata": {},
   "source": [
    "2. Write a Python program that uses lambda functions to sort a list of tuples based on the second element."
   ]
  },
  {
   "cell_type": "code",
   "execution_count": 7,
   "id": "49868cdd",
   "metadata": {},
   "outputs": [
    {
     "name": "stdout",
     "output_type": "stream",
     "text": [
      "Sorted list of tuples: [(5, 0), (4, 1), (2, 2), (1, 3)]\n"
     ]
    }
   ],
   "source": [
    "tuples_list = [(1, 3), (4, 1), (2, 2), (5, 0)]\n",
    "sorted_tuples = sorted(tuples_list, key=lambda x: x[1])\n",
    "print(\"Sorted list of tuples:\", sorted_tuples)"
   ]
  },
  {
   "cell_type": "markdown",
   "id": "5f6add6f",
   "metadata": {},
   "source": [
    "3. Explain the concept of higher-order functions in Python, and provide an example."
   ]
  },
  {
   "cell_type": "code",
   "execution_count": 8,
   "id": "c8202274",
   "metadata": {},
   "outputs": [
    {
     "name": "stdout",
     "output_type": "stream",
     "text": [
      "[1, 4, 9, 16, 25]\n",
      "15\n"
     ]
    }
   ],
   "source": [
    "def apply_function(func, values):\n",
    "    return [func(x) for x in values]\n",
    "def square(x):\n",
    "    return x * x\n",
    "numbers = [1, 2, 3, 4, 5]\n",
    "squared_numbers = apply_function(square, numbers)\n",
    "print(squared_numbers)\n",
    "\n",
    "# Example of a higher-order function that returns a function\n",
    "def make_multiplier(n):\n",
    "    def multiplier(x):\n",
    "        return x * n\n",
    "    return multiplier\n",
    "multiply_by_3 = make_multiplier(3)\n",
    "result = multiply_by_3(5)\n",
    "print(result)"
   ]
  },
  {
   "cell_type": "markdown",
   "id": "322555c4",
   "metadata": {},
   "source": [
    "4. Create a Python function that takes a list of numbers and a function as arguments, applying the function to each element in the list."
   ]
  },
  {
   "cell_type": "code",
   "execution_count": 10,
   "id": "d82c76d4",
   "metadata": {},
   "outputs": [
    {
     "name": "stdout",
     "output_type": "stream",
     "text": [
      "[1, 4, 9, 16, 25]\n",
      "[2, 3, 4, 5, 6]\n"
     ]
    }
   ],
   "source": [
    "def apply_function_to_list(numbers, func):\n",
    "    return [func(number) for number in numbers]\n",
    "\n",
    "# Define a sample function to apply\n",
    "def square(x):\n",
    "    return x * x\n",
    "\n",
    "# Define a list of numbers\n",
    "numbers_list = [1, 2, 3, 4, 5]\n",
    "\n",
    "# Apply the function to each element in the list\n",
    "squared_numbers = apply_function_to_list(numbers_list, square)\n",
    "print(squared_numbers)\n",
    "\n",
    "# Another example with a lambda function\n",
    "incremented_numbers = apply_function_to_list(numbers_list, lambda x: x + 1)\n",
    "print(incremented_numbers)"
   ]
  },
  {
   "cell_type": "markdown",
   "id": "5a5f4fb8",
   "metadata": {},
   "source": [
    "# Built-in Functions:"
   ]
  },
  {
   "cell_type": "markdown",
   "id": "b6cd4ca0",
   "metadata": {},
   "source": [
    "1. Describe the role of built-in functions like `len()`, `max()`, and `min()` in Python."
   ]
  },
  {
   "cell_type": "code",
   "execution_count": 11,
   "id": "5ef49b62",
   "metadata": {},
   "outputs": [
    {
     "name": "stdout",
     "output_type": "stream",
     "text": [
      "13\n",
      "5\n",
      "3\n",
      "5\n",
      "30\n",
      "z\n",
      "1\n",
      "10\n",
      "a\n"
     ]
    }
   ],
   "source": [
    "# Length of a string\n",
    "print(len(\"Hello, World!\"))\n",
    "\n",
    "# Length of a list\n",
    "print(len([1, 2, 3, 4, 5]))\n",
    "\n",
    "# Length of a dictionary (number of keys)\n",
    "print(len({'a': 1, 'b': 2, 'c': 3}))\n",
    "\n",
    "# Maximum value in a list\n",
    "print(max([1, 2, 3, 4, 5]))\n",
    "\n",
    "# Maximum value among arguments\n",
    "print(max(10, 20, 30))\n",
    "\n",
    "# Maximum value in a string (lexicographically)\n",
    "print(max(\"abcxyz\"))\n",
    "\n",
    "# Minimum value in a list\n",
    "print(min([1, 2, 3, 4, 5]))\n",
    "\n",
    "# Minimum value among arguments\n",
    "print(min(10, 20, 30))\n",
    "\n",
    "# Minimum value in a string (lexicographically)\n",
    "print(min(\"abcxyz\"))"
   ]
  },
  {
   "cell_type": "markdown",
   "id": "45b7fcf2",
   "metadata": {},
   "source": [
    "2. Write a Python program that uses the `map()` function to apply a function to each element of a list."
   ]
  },
  {
   "cell_type": "code",
   "execution_count": 13,
   "id": "25fa8a99",
   "metadata": {},
   "outputs": [
    {
     "name": "stdout",
     "output_type": "stream",
     "text": [
      "[1, 4, 9, 16, 25]\n",
      "[1, 4, 9, 16, 25]\n"
     ]
    }
   ],
   "source": [
    "def square(x):\n",
    "    return x * x\n",
    "\n",
    "# List of numbers\n",
    "numbers = [1, 2, 3, 4, 5]\n",
    "squared_numbers = map(square, numbers)\n",
    "print(list(squared_numbers))\n",
    "\n",
    "# List of numbers\n",
    "numbers = [1, 2, 3, 4, 5]\n",
    "squared_numbers = map(lambda x: x * x, numbers)\n",
    "print(list(squared_numbers)) \n"
   ]
  },
  {
   "cell_type": "markdown",
   "id": "67b1aa69",
   "metadata": {},
   "source": [
    "3. How does the `filter()` function work in Python, and when would you use it?"
   ]
  },
  {
   "cell_type": "code",
   "execution_count": 15,
   "id": "3d5e9bc1",
   "metadata": {},
   "outputs": [
    {
     "name": "stdout",
     "output_type": "stream",
     "text": [
      "[1, 3, 5, 7, 9]\n",
      "[1, 3, 5, 7, 9]\n"
     ]
    }
   ],
   "source": [
    "def is_odd(n):\n",
    "    return n % 2 != 0\n",
    "\n",
    "# List of numbers\n",
    "numbers = [1, 2, 3, 4, 5, 6, 7, 8, 9, 10]\n",
    "odd_numbers = filter(is_odd, numbers)\n",
    "print(list(odd_numbers))\n",
    "# List of numbers\n",
    "numbers = [1, 2, 3, 4, 5, 6, 7, 8, 9, 10]\n",
    "odd_numbers = filter(lambda x: x % 2 != 0, numbers)\n",
    "print(list(odd_numbers))"
   ]
  },
  {
   "cell_type": "markdown",
   "id": "a05637bd",
   "metadata": {},
   "source": [
    "4. Create a Python program that uses the `reduce()` function to find the product of all elements in a list."
   ]
  },
  {
   "cell_type": "code",
   "execution_count": 17,
   "id": "270baa26",
   "metadata": {},
   "outputs": [
    {
     "name": "stdout",
     "output_type": "stream",
     "text": [
      "120\n",
      "120\n"
     ]
    }
   ],
   "source": [
    "from functools import reduce\n",
    "def multiply(x, y):\n",
    "    return x * y\n",
    "numbers = [1, 2, 3, 4, 5]\n",
    "product = reduce(multiply, numbers)\n",
    "print(product)\n",
    "\n",
    "numbers = [1, 2, 3, 4, 5]\n",
    "product = reduce(lambda x, y: x * y, numbers)\n",
    "print(product)\n",
    "\n"
   ]
  },
  {
   "cell_type": "markdown",
   "id": "44fc0a0c",
   "metadata": {},
   "source": [
    "# Function Documentation and Best Practices:"
   ]
  },
  {
   "cell_type": "markdown",
   "id": "766a0871",
   "metadata": {},
   "source": [
    "1. Explain the purpose of docstrings in Python functions and how to write them."
   ]
  },
  {
   "cell_type": "code",
   "execution_count": 18,
   "id": "73d9f3f0",
   "metadata": {},
   "outputs": [],
   "source": [
    "def add(a, b):\n",
    "    return a + b\n",
    "class Circle:\n",
    "    def __init__(self, radius):\n",
    "        self.radius = radius\n",
    "    def area(self):\n",
    "        import math\n",
    "        return math.pi * (self.radius ** 2)\n",
    "    def circumference(self):\n",
    "        import math\n",
    "        return 2 * math.pi * self.radius\n",
    "def add(a, b):\n",
    "    return a + b\n",
    "def subtract(a, b):\n",
    "    return a - b\n",
    "def multiply(a, b):\n",
    "    return a * b\n",
    "def divide(a, b):\n",
    "    return a / b"
   ]
  },
  {
   "cell_type": "markdown",
   "id": "da1f6c8d",
   "metadata": {},
   "source": [
    "2. Describe some best practices for naming functions and variables in Python, including naming conventions and guidelines."
   ]
  },
  {
   "cell_type": "code",
   "execution_count": 29,
   "id": "f7cdbd78",
   "metadata": {},
   "outputs": [],
   "source": [
    "user_age = 30\n",
    "total_price = 99.99\n",
    "def calculate_total(price, tax):\n",
    "    return price + tax\n",
    "class OrderProcessor:\n",
    "    pass\n",
    "MAX_RETRIES = 5\n",
    "PI = 3.14159\n",
    "item = \"apple\"\n",
    "items = [\"apple\", \"banana\", \"cherry\"]\n",
    "number_of_users = 100\n",
    "num_users = 100\n",
    "def fetch_user_data():\n",
    "    pass\n",
    "def validate_input():\n",
    "    pass\n",
    "def update_profile(user_id, new_name, new_email):\n",
    "    pass\n",
    "class MyClass:\n",
    "    def __init__(self):\n",
    "        self._internal_var = 0\n",
    "def calculate_discounted_price(price, discount_rate):\n",
    "    discounted_price = price * (1 - discount_rate)\n",
    "    return discounted_price\n",
    "def send_email(recipient_email, subject, body):\n",
    "    pass\n",
    "MAX_ATTEMPTS = 3\n",
    "user_profile = {\n",
    "    'name': 'Alice',\n",
    "    'email': 'alice@example.com'\n",
    "}\n",
    "def calc(p, d):\n",
    "    return p * (1 - d)\n",
    "def email(r, s, b):\n",
    "    pass\n",
    "ATTEMPTS = 3\n",
    "profile = {\n",
    "    'n': 'Alice',\n",
    "    'e': 'alice@example.com'\n",
    "}"
   ]
  }
 ],
 "metadata": {
  "kernelspec": {
   "display_name": "Python 3 (ipykernel)",
   "language": "python",
   "name": "python3"
  },
  "language_info": {
   "codemirror_mode": {
    "name": "ipython",
    "version": 3
   },
   "file_extension": ".py",
   "mimetype": "text/x-python",
   "name": "python",
   "nbconvert_exporter": "python",
   "pygments_lexer": "ipython3",
   "version": "3.11.3"
  }
 },
 "nbformat": 4,
 "nbformat_minor": 5
}
